{
 "cells": [
  {
   "cell_type": "code",
   "execution_count": 1,
   "metadata": {},
   "outputs": [
    {
     "data": {
      "text/plain": [
       "4×3 Matrix{Float64}:\n",
       " 0.455238  0.0296477  0.0869468\n",
       " 0.547642  0.746943   0.351491\n",
       " 0.773354  0.746801   0.193291\n",
       " 0.940585  0.97667    0.116989"
      ]
     },
     "execution_count": 1,
     "metadata": {},
     "output_type": "execute_result"
    }
   ],
   "source": [
    "using Random\n",
    "Random.seed!(0);\n",
    "using StatsBase\n",
    "a = rand(4,3)\n"
   ]
  },
  {
   "cell_type": "code",
   "execution_count": 2,
   "metadata": {},
   "outputs": [
    {
     "name": "stdout",
     "output_type": "stream",
     "text": [
      "C:\\Users\\pszuf\\AppData\\Local\\Temp\\jl_ad8r8d63cf\n"
     ]
    }
   ],
   "source": [
    "file_name = tempname()\n",
    "println(file_name)"
   ]
  },
  {
   "cell_type": "code",
   "execution_count": 3,
   "metadata": {},
   "outputs": [],
   "source": [
    "using DelimitedFiles\n",
    "writedlm(file_name, a)"
   ]
  },
  {
   "cell_type": "code",
   "execution_count": 6,
   "metadata": {},
   "outputs": [
    {
     "name": "stdout",
     "output_type": "stream",
     "text": [
      "0.4552384158732863      0.02964765308691042     0.08694684883050086\n",
      "0.5476424498276177      0.74694291453392        0.35149138733595564\n",
      "0.7733535276924052      0.7468008914093891      0.1932909538733718\n",
      "0.9405848223512736      0.9766699015845924      0.11698905483599475\n"
     ]
    }
   ],
   "source": [
    ";more \"C:\\Users\\pszuf\\AppData\\Local\\Temp\\jl_ad8r8d63cf\""
   ]
  },
  {
   "cell_type": "code",
   "execution_count": 8,
   "metadata": {},
   "outputs": [
    {
     "data": {
      "text/plain": [
       "4×3 Matrix{Float64}:\n",
       " 0.455238  0.0296477  0.0869468\n",
       " 0.547642  0.746943   0.351491\n",
       " 0.773354  0.746801   0.193291\n",
       " 0.940585  0.97667    0.116989"
      ]
     },
     "execution_count": 8,
     "metadata": {},
     "output_type": "execute_result"
    }
   ],
   "source": [
    "readdlm(file_name)"
   ]
  },
  {
   "cell_type": "code",
   "execution_count": 5,
   "metadata": {},
   "outputs": [
    {
     "name": "stderr",
     "output_type": "stream",
     "text": [
      "Line 1 : \n"
     ]
    },
    {
     "name": "stdout",
     "output_type": "stream",
     "text": [
      "0.4552384158732863\t0.02964765308691042\t0.08694684883050086\n"
     ]
    },
    {
     "name": "stderr",
     "output_type": "stream",
     "text": [
      "Line 2 : \n"
     ]
    },
    {
     "name": "stdout",
     "output_type": "stream",
     "text": [
      "0.5476424498276177\t0.74694291453392\t0.35149138733595564\n"
     ]
    },
    {
     "name": "stderr",
     "output_type": "stream",
     "text": [
      "Line 3 : "
     ]
    },
    {
     "name": "stdout",
     "output_type": "stream",
     "text": [
      "0.7733535276924052\t0.7468008914093891\t0.1932909538733718\n"
     ]
    },
    {
     "name": "stderr",
     "output_type": "stream",
     "text": [
      "\n",
      "Line 4 : \n"
     ]
    },
    {
     "name": "stdout",
     "output_type": "stream",
     "text": [
      "0.9405848223512736\t0.9766699015845924\t0.11698905483599475\n"
     ]
    }
   ],
   "source": [
    "open(file_name,\"r\") do f\n",
    "    line_no = 0\n",
    "    while !eof(f)\n",
    "        line_no += 1\n",
    "        println(stderr, \"Line $line_no : \" )\n",
    "        flush(stderr)\n",
    "        println(readline(f))\n",
    "        flush(stdout)\n",
    "    end\n",
    "end"
   ]
  },
  {
   "cell_type": "code",
   "execution_count": 6,
   "metadata": {},
   "outputs": [
    {
     "data": {
      "text/plain": [
       "4×3 Matrix{Float64}:\n",
       " 0.455238  0.0296477  0.0869468\n",
       " 0.547642  0.746943   0.351491\n",
       " 0.773354  0.746801   0.193291\n",
       " 0.940585  0.97667    0.116989"
      ]
     },
     "execution_count": 6,
     "metadata": {},
     "output_type": "execute_result"
    }
   ],
   "source": [
    "b = readdlm(file_name)"
   ]
  },
  {
   "cell_type": "code",
   "execution_count": 7,
   "metadata": {},
   "outputs": [
    {
     "data": {
      "text/plain": [
       "true"
      ]
     },
     "execution_count": 7,
     "metadata": {},
     "output_type": "execute_result"
    }
   ],
   "source": [
    "a == b"
   ]
  },
  {
   "cell_type": "code",
   "execution_count": 10,
   "metadata": {},
   "outputs": [],
   "source": [
    "dat=\"\"\"col1\\tcol2\\tcol3\\tdate1\n",
    "1\\t2.3\\tabc\\t2021-11-17 12:33:12\n",
    "10\\t4.3\\tdef\\t2021-11-18 14:56:42\n",
    "20\\t5.3\\tsgh123\\t2021-11-19 17:23:52\"\"\"\n",
    "file_name = raw\".\\plik.csv\"\n",
    "open(file_name,\"w\") do f \n",
    "    println(f, dat) \n",
    "end"
   ]
  },
  {
   "cell_type": "code",
   "execution_count": 13,
   "metadata": {},
   "outputs": [
    {
     "name": "stdout",
     "output_type": "stream",
     "text": [
      "col1    col2    col3    date1\n",
      "1       2.3     abc     2021-11-17 12:33:12\n",
      "10      4.3     def     2021-11-18 14:56:42\n",
      "20      5.3     sgh123  2021-11-19 17:23:52\n"
     ]
    },
    {
     "data": {
      "text/plain": [
       "Process(`\u001b[4mmore\u001b[24m \u001b[4m'.\\plik.csv'\u001b[24m`, ProcessExited(0))"
      ]
     },
     "execution_count": 13,
     "metadata": {},
     "output_type": "execute_result"
    }
   ],
   "source": [
    "c = `more $file_name`\n",
    "typeof(c)\n",
    "run(c)"
   ]
  },
  {
   "cell_type": "code",
   "execution_count": 11,
   "metadata": {
    "scrolled": true
   },
   "outputs": [
    {
     "name": "stdout",
     "output_type": "stream",
     "text": [
      "col1    col2    col3    date1\n",
      "1       2.3     abc     2021-11-17 12:33:12\n",
      "10      4.3     def     2021-11-18 14:56:42\n",
      "20      5.3     sgh123  2021-11-19 17:23:52\n"
     ]
    }
   ],
   "source": [
    ";more $file_name"
   ]
  },
  {
   "cell_type": "code",
   "execution_count": 22,
   "metadata": {},
   "outputs": [],
   "source": [
    "open(\"f.txt\",\"w\") do f\n",
    "    println(f,\"a\\tb\\tc\")\n",
    "    print(f,\"1\\t2\\t\")\n",
    "    println(f, randstring(10000))\n",
    "    print(f,\"1\\t2\\t\")\n",
    "    println(f, randstring(20000))\n",
    "end"
   ]
  },
  {
   "cell_type": "code",
   "execution_count": 23,
   "metadata": {},
   "outputs": [
    {
     "data": {
      "text/html": [
       "<div><div style = \"float: left;\"><span>2×3 DataFrame</span></div><div style = \"clear: both;\"></div></div><div class = \"data-frame\" style = \"overflow-x: scroll;\"><table class = \"data-frame\" style = \"margin-bottom: 6px;\"><thead><tr class = \"header\"><th class = \"rowNumber\" style = \"font-weight: bold; text-align: right;\">Row</th><th style = \"text-align: left;\">a</th><th style = \"text-align: left;\">b</th><th style = \"text-align: left;\">c</th></tr><tr class = \"subheader headerLastRow\"><th class = \"rowNumber\" style = \"font-weight: bold; text-align: right;\"></th><th title = \"Int64\" style = \"text-align: left;\">Int64</th><th title = \"Int64\" style = \"text-align: left;\">Int64</th><th title = \"String\" style = \"text-align: left;\">String</th></tr></thead><tbody><tr><td class = \"rowNumber\" style = \"font-weight: bold; text-align: right;\">1</td><td style = \"text-align: right;\">1</td><td style = \"text-align: right;\">2</td><td style = \"text-align: left;\">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</td></tr><tr><td class = \"rowNumber\" style = \"font-weight: bold; text-align: right;\">2</td><td style = \"text-align: right;\">1</td><td style = \"text-align: right;\">2</td><td style = \"text-align: left;\">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</td></tr></tbody></table></div>"
      ],
      "text/latex": [
       "\\begin{tabular}{r|ccc}\n",
       "\t& a & b & c\\\\\n",
       "\t\\hline\n",
       "\t& Int64 & Int64 & String\\\\\n",
       "\t\\hline\n",
       "\t1 & 1 & 2 & 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 \\\\\n",
       "\t2 & 1 & 2 & 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 \\\\\n",
       "\\end{tabular}\n"
      ],
      "text/plain": [
       "\u001b[1m2×3 DataFrame\u001b[0m\n",
       "\u001b[1m Row \u001b[0m│\u001b[1m a     \u001b[0m\u001b[1m b     \u001b[0m\u001b[1m c                                 \u001b[0m\n",
       "     │\u001b[90m Int64 \u001b[0m\u001b[90m Int64 \u001b[0m\u001b[90m String                            \u001b[0m\n",
       "─────┼─────────────────────────────────────────────────\n",
       "   1 │     1      2  KFIHyJkeQpZ6jPptzY7PPEqUo8DQaUQb…\n",
       "   2 │     1      2  A7ZY1L4hjJCh6FoTSI5rPxV9Q7PJTCqR…"
      ]
     },
     "execution_count": 23,
     "metadata": {},
     "output_type": "execute_result"
    }
   ],
   "source": [
    "using CSV, DataFrames, Dates\n",
    "df = CSV.read(\"f.txt\", DataFrame)"
   ]
  },
  {
   "cell_type": "code",
   "execution_count": 24,
   "metadata": {},
   "outputs": [
    {
     "data": {
      "text/html": [
       "<div><div style = \"float: left;\"><span>3×4 DataFrame</span></div><div style = \"clear: both;\"></div></div><div class = \"data-frame\" style = \"overflow-x: scroll;\"><table class = \"data-frame\" style = \"margin-bottom: 6px;\"><thead><tr class = \"header\"><th class = \"rowNumber\" style = \"font-weight: bold; text-align: right;\">Row</th><th style = \"text-align: left;\">col1</th><th style = \"text-align: left;\">col2</th><th style = \"text-align: left;\">col3</th><th style = \"text-align: left;\">date1</th></tr><tr class = \"subheader headerLastRow\"><th class = \"rowNumber\" style = \"font-weight: bold; text-align: right;\"></th><th title = \"Int64\" style = \"text-align: left;\">Int64</th><th title = \"Float64\" style = \"text-align: left;\">Float64</th><th title = \"String7\" style = \"text-align: left;\">String7</th><th title = \"DateTime\" style = \"text-align: left;\">DateTime</th></tr></thead><tbody><tr><td class = \"rowNumber\" style = \"font-weight: bold; text-align: right;\">1</td><td style = \"text-align: right;\">1</td><td style = \"text-align: right;\">2.3</td><td style = \"text-align: left;\">abc</td><td style = \"text-align: left;\">2021-11-17T12:33:12</td></tr><tr><td class = \"rowNumber\" style = \"font-weight: bold; text-align: right;\">2</td><td style = \"text-align: right;\">10</td><td style = \"text-align: right;\">4.3</td><td style = \"text-align: left;\">def</td><td style = \"text-align: left;\">2021-11-18T14:56:42</td></tr><tr><td class = \"rowNumber\" style = \"font-weight: bold; text-align: right;\">3</td><td style = \"text-align: right;\">20</td><td style = \"text-align: right;\">5.3</td><td style = \"text-align: left;\">sgh123</td><td style = \"text-align: left;\">2021-11-19T17:23:52</td></tr></tbody></table></div>"
      ],
      "text/latex": [
       "\\begin{tabular}{r|cccc}\n",
       "\t& col1 & col2 & col3 & date1\\\\\n",
       "\t\\hline\n",
       "\t& Int64 & Float64 & String7 & DateTime\\\\\n",
       "\t\\hline\n",
       "\t1 & 1 & 2.3 & abc & 2021-11-17T12:33:12 \\\\\n",
       "\t2 & 10 & 4.3 & def & 2021-11-18T14:56:42 \\\\\n",
       "\t3 & 20 & 5.3 & sgh123 & 2021-11-19T17:23:52 \\\\\n",
       "\\end{tabular}\n"
      ],
      "text/plain": [
       "\u001b[1m3×4 DataFrame\u001b[0m\n",
       "\u001b[1m Row \u001b[0m│\u001b[1m col1  \u001b[0m\u001b[1m col2    \u001b[0m\u001b[1m col3    \u001b[0m\u001b[1m date1               \u001b[0m\n",
       "     │\u001b[90m Int64 \u001b[0m\u001b[90m Float64 \u001b[0m\u001b[90m String7 \u001b[0m\u001b[90m DateTime            \u001b[0m\n",
       "─────┼──────────────────────────────────────────────\n",
       "   1 │     1      2.3  abc      2021-11-17T12:33:12\n",
       "   2 │    10      4.3  def      2021-11-18T14:56:42\n",
       "   3 │    20      5.3  sgh123   2021-11-19T17:23:52"
      ]
     },
     "execution_count": 24,
     "metadata": {},
     "output_type": "execute_result"
    }
   ],
   "source": [
    "using CSV, DataFrames, Dates\n",
    "df = CSV.read(file_name, DataFrame;\n",
    "              dateformat=\"y-m-d H:M:S\", types = Dict(:date1 => DateTime))"
   ]
  },
  {
   "cell_type": "code",
   "execution_count": 25,
   "metadata": {},
   "outputs": [
    {
     "data": {
      "text/plain": [
       "2021-11-17T12:33:12"
      ]
     },
     "execution_count": 25,
     "metadata": {},
     "output_type": "execute_result"
    }
   ],
   "source": [
    "df.date1[1]"
   ]
  },
  {
   "cell_type": "code",
   "execution_count": 26,
   "metadata": {
    "scrolled": true
   },
   "outputs": [
    {
     "data": {
      "text/html": [
       "<div><div style = \"float: left;\"><span>3×6 DataFrame</span></div><div style = \"clear: both;\"></div></div><div class = \"data-frame\" style = \"overflow-x: scroll;\"><table class = \"data-frame\" style = \"margin-bottom: 6px;\"><thead><tr class = \"header\"><th class = \"rowNumber\" style = \"font-weight: bold; text-align: right;\">Row</th><th style = \"text-align: left;\">col1</th><th style = \"text-align: left;\">col2</th><th style = \"text-align: left;\">col3</th><th style = \"text-align: left;\">date1</th><th style = \"text-align: left;\">year</th><th style = \"text-align: left;\">day</th></tr><tr class = \"subheader headerLastRow\"><th class = \"rowNumber\" style = \"font-weight: bold; text-align: right;\"></th><th title = \"Int64\" style = \"text-align: left;\">Int64</th><th title = \"Float64\" style = \"text-align: left;\">Float64</th><th title = \"String7\" style = \"text-align: left;\">String7</th><th title = \"DateTime\" style = \"text-align: left;\">DateTime</th><th title = \"Int64\" style = \"text-align: left;\">Int64</th><th title = \"Int64\" style = \"text-align: left;\">Int64</th></tr></thead><tbody><tr><td class = \"rowNumber\" style = \"font-weight: bold; text-align: right;\">1</td><td style = \"text-align: right;\">1</td><td style = \"text-align: right;\">2.3</td><td style = \"text-align: left;\">abc</td><td style = \"text-align: left;\">2021-11-17T12:33:12</td><td style = \"text-align: right;\">2021</td><td style = \"text-align: right;\">17</td></tr><tr><td class = \"rowNumber\" style = \"font-weight: bold; text-align: right;\">2</td><td style = \"text-align: right;\">10</td><td style = \"text-align: right;\">4.3</td><td style = \"text-align: left;\">def</td><td style = \"text-align: left;\">2021-11-18T14:56:42</td><td style = \"text-align: right;\">2021</td><td style = \"text-align: right;\">18</td></tr><tr><td class = \"rowNumber\" style = \"font-weight: bold; text-align: right;\">3</td><td style = \"text-align: right;\">20</td><td style = \"text-align: right;\">5.3</td><td style = \"text-align: left;\">sgh123</td><td style = \"text-align: left;\">2021-11-19T17:23:52</td><td style = \"text-align: right;\">2021</td><td style = \"text-align: right;\">19</td></tr></tbody></table></div>"
      ],
      "text/latex": [
       "\\begin{tabular}{r|cccccc}\n",
       "\t& col1 & col2 & col3 & date1 & year & day\\\\\n",
       "\t\\hline\n",
       "\t& Int64 & Float64 & String7 & DateTime & Int64 & Int64\\\\\n",
       "\t\\hline\n",
       "\t1 & 1 & 2.3 & abc & 2021-11-17T12:33:12 & 2021 & 17 \\\\\n",
       "\t2 & 10 & 4.3 & def & 2021-11-18T14:56:42 & 2021 & 18 \\\\\n",
       "\t3 & 20 & 5.3 & sgh123 & 2021-11-19T17:23:52 & 2021 & 19 \\\\\n",
       "\\end{tabular}\n"
      ],
      "text/plain": [
       "\u001b[1m3×6 DataFrame\u001b[0m\n",
       "\u001b[1m Row \u001b[0m│\u001b[1m col1  \u001b[0m\u001b[1m col2    \u001b[0m\u001b[1m col3    \u001b[0m\u001b[1m date1               \u001b[0m\u001b[1m year  \u001b[0m\u001b[1m day   \u001b[0m\n",
       "     │\u001b[90m Int64 \u001b[0m\u001b[90m Float64 \u001b[0m\u001b[90m String7 \u001b[0m\u001b[90m DateTime            \u001b[0m\u001b[90m Int64 \u001b[0m\u001b[90m Int64 \u001b[0m\n",
       "─────┼────────────────────────────────────────────────────────────\n",
       "   1 │     1      2.3  abc      2021-11-17T12:33:12   2021     17\n",
       "   2 │    10      4.3  def      2021-11-18T14:56:42   2021     18\n",
       "   3 │    20      5.3  sgh123   2021-11-19T17:23:52   2021     19"
      ]
     },
     "execution_count": 26,
     "metadata": {},
     "output_type": "execute_result"
    }
   ],
   "source": [
    "df.year = year.(df.date1)\n",
    "df.day = day.(df.date1)\n",
    "df"
   ]
  },
  {
   "cell_type": "code",
   "execution_count": 30,
   "metadata": {},
   "outputs": [
    {
     "data": {
      "text/plain": [
       "3×2 Matrix{Float64}:\n",
       " 0.231101  0.228649\n",
       " 0.985358  0.568391\n",
       " 0.272826  0.251367"
      ]
     },
     "execution_count": 30,
     "metadata": {},
     "output_type": "execute_result"
    }
   ],
   "source": [
    "a[:, Not(2)]"
   ]
  },
  {
   "cell_type": "code",
   "execution_count": 29,
   "metadata": {},
   "outputs": [
    {
     "data": {
      "text/plain": [
       "3×3 Matrix{Float64}:\n",
       " 0.231101  0.00170706  0.228649\n",
       " 0.985358  0.717409    0.568391\n",
       " 0.272826  0.431891    0.251367"
      ]
     },
     "execution_count": 29,
     "metadata": {},
     "output_type": "execute_result"
    }
   ],
   "source": [
    "a = rand(3,3)"
   ]
  },
  {
   "cell_type": "code",
   "execution_count": 28,
   "metadata": {},
   "outputs": [
    {
     "data": {
      "text/html": [
       "<div><div style = \"float: left;\"><span>3×3 DataFrame</span></div><div style = \"clear: both;\"></div></div><div class = \"data-frame\" style = \"overflow-x: scroll;\"><table class = \"data-frame\" style = \"margin-bottom: 6px;\"><thead><tr class = \"header\"><th class = \"rowNumber\" style = \"font-weight: bold; text-align: right;\">Row</th><th style = \"text-align: left;\">date1</th><th style = \"text-align: left;\">year</th><th style = \"text-align: left;\">day</th></tr><tr class = \"subheader headerLastRow\"><th class = \"rowNumber\" style = \"font-weight: bold; text-align: right;\"></th><th title = \"DateTime\" style = \"text-align: left;\">DateTime</th><th title = \"Int64\" style = \"text-align: left;\">Int64</th><th title = \"Int64\" style = \"text-align: left;\">Int64</th></tr></thead><tbody><tr><td class = \"rowNumber\" style = \"font-weight: bold; text-align: right;\">1</td><td style = \"text-align: left;\">2021-11-17T12:33:12</td><td style = \"text-align: right;\">2021</td><td style = \"text-align: right;\">17</td></tr><tr><td class = \"rowNumber\" style = \"font-weight: bold; text-align: right;\">2</td><td style = \"text-align: left;\">2021-11-18T14:56:42</td><td style = \"text-align: right;\">2021</td><td style = \"text-align: right;\">18</td></tr><tr><td class = \"rowNumber\" style = \"font-weight: bold; text-align: right;\">3</td><td style = \"text-align: left;\">2021-11-19T17:23:52</td><td style = \"text-align: right;\">2021</td><td style = \"text-align: right;\">19</td></tr></tbody></table></div>"
      ],
      "text/latex": [
       "\\begin{tabular}{r|ccc}\n",
       "\t& date1 & year & day\\\\\n",
       "\t\\hline\n",
       "\t& DateTime & Int64 & Int64\\\\\n",
       "\t\\hline\n",
       "\t1 & 2021-11-17T12:33:12 & 2021 & 17 \\\\\n",
       "\t2 & 2021-11-18T14:56:42 & 2021 & 18 \\\\\n",
       "\t3 & 2021-11-19T17:23:52 & 2021 & 19 \\\\\n",
       "\\end{tabular}\n"
      ],
      "text/plain": [
       "\u001b[1m3×3 DataFrame\u001b[0m\n",
       "\u001b[1m Row \u001b[0m│\u001b[1m date1               \u001b[0m\u001b[1m year  \u001b[0m\u001b[1m day   \u001b[0m\n",
       "     │\u001b[90m DateTime            \u001b[0m\u001b[90m Int64 \u001b[0m\u001b[90m Int64 \u001b[0m\n",
       "─────┼───────────────────────────────────\n",
       "   1 │ 2021-11-17T12:33:12   2021     17\n",
       "   2 │ 2021-11-18T14:56:42   2021     18\n",
       "   3 │ 2021-11-19T17:23:52   2021     19"
      ]
     },
     "execution_count": 28,
     "metadata": {},
     "output_type": "execute_result"
    }
   ],
   "source": [
    "df[:, Not([:col1, :col2, :col3])]"
   ]
  },
  {
   "cell_type": "code",
   "execution_count": 31,
   "metadata": {},
   "outputs": [
    {
     "name": "stdout",
     "output_type": "stream",
     "text": [
      "Current folder : C:\\AAABIBLIOTEKA\\EuropeanCommission\\2024_Julia_EC_EconomicDep\\2_Working_with_Data_Sources\n"
     ]
    }
   ],
   "source": [
    "using XLSX\n",
    "println(\"Current folder : \",pwd())"
   ]
  },
  {
   "cell_type": "code",
   "execution_count": 33,
   "metadata": {},
   "outputs": [
    {
     "data": {
      "text/plain": [
       "3×3 Matrix{Int64}:\n",
       " 1  4  7\n",
       " 2  5  8\n",
       " 3  6  9"
      ]
     },
     "execution_count": 33,
     "metadata": {},
     "output_type": "execute_result"
    }
   ],
   "source": [
    "XLSX.openxlsx(joinpath(pwd(),\"my_new_file.xlsx\"), mode=\"w\") do xf\n",
    "    sheet = xf[1]\n",
    "    XLSX.rename!(sheet, \"Spreadsheet name\")\n",
    "    sheet[\"A1\"] = \"this\"\n",
    "    sheet[\"A2\"] = \"is a\"\n",
    "    sheet[\"A3\"] = \"new file\"\n",
    "    sheet[\"A4\"] = 100\n",
    "\n",
    "    sheet[\"A7\"] = collect(1:5)   #slide to right\n",
    "    sheet[\"A8\", dim=2] = collect(1:4) # slide to right\n",
    "\n",
    "    \n",
    "    sheet[\"C1\", dim=1] = collect(1:4) # slide downwards\n",
    "\n",
    "    sheet[\"E3:G5\"] = collect(reshape(1:9,(3,3)))\n",
    "    \n",
    "end"
   ]
  },
  {
   "cell_type": "code",
   "execution_count": 34,
   "metadata": {},
   "outputs": [
    {
     "data": {
      "text/plain": [
       "XLSXFile(\"C:\\AAABIBLIOTEKA\\EuropeanCommission\\2024_Julia_EC_EconomicDep\\2_Working_with_Data_Sources\\my_new_file.xlsx\") containing 1 Worksheet\n",
       "            sheetname size          range        \n",
       "-------------------------------------------------\n",
       "     Spreadsheet name 8x7           A1:G8        \n"
      ]
     },
     "execution_count": 34,
     "metadata": {},
     "output_type": "execute_result"
    }
   ],
   "source": [
    "import XLSX\n",
    "\n",
    "xf = XLSX.readxlsx(joinpath(pwd(),\"my_new_file.xlsx\"))"
   ]
  },
  {
   "cell_type": "code",
   "execution_count": 41,
   "metadata": {},
   "outputs": [
    {
     "name": "stderr",
     "output_type": "stream",
     "text": [
      "\u001b[91m\u001b[1mERROR: \u001b[22m\u001b[39mIOError: could not spawn `excel 'C:\\AAABIBLIOTEKA\\EuropeanCommission\\2024_Julia_EC_EconomicDep\\2_Working_with_Data_Sources\\my_new_file.xlsx'`: no such file or directory (ENOENT)\n"
     ]
    }
   ],
   "source": [
    ";excel \"C:\\AAABIBLIOTEKA\\EuropeanCommission\\2024_Julia_EC_EconomicDep\\2_Working_with_Data_Sources\\my_new_file.xlsx\""
   ]
  },
  {
   "cell_type": "code",
   "execution_count": 37,
   "metadata": {},
   "outputs": [
    {
     "name": "stdout",
     "output_type": "stream",
     "text": [
      "C:\\AAABIBLIOTEKA\\EuropeanCommission\\2024_Julia_EC_EconomicDep\\2_Working_with_Data_Sources\\my_new_file.xlsx\n"
     ]
    }
   ],
   "source": [
    "println(joinpath(pwd(),\"my_new_file.xlsx\"))"
   ]
  },
  {
   "cell_type": "code",
   "execution_count": 42,
   "metadata": {},
   "outputs": [
    {
     "data": {
      "text/plain": [
       "1-element Vector{String}:\n",
       " \"Spreadsheet name\""
      ]
     },
     "execution_count": 42,
     "metadata": {},
     "output_type": "execute_result"
    }
   ],
   "source": [
    "XLSX.sheetnames(xf)"
   ]
  },
  {
   "cell_type": "code",
   "execution_count": 43,
   "metadata": {},
   "outputs": [
    {
     "data": {
      "text/plain": [
       "8×7 XLSX.Worksheet: [\"Spreadsheet name\"](A1:G8) "
      ]
     },
     "execution_count": 43,
     "metadata": {},
     "output_type": "execute_result"
    }
   ],
   "source": [
    "sh = xf[XLSX.sheetnames(xf)[1]] # get a reference to a Worksheet"
   ]
  },
  {
   "cell_type": "code",
   "execution_count": 44,
   "metadata": {},
   "outputs": [
    {
     "data": {
      "text/plain": [
       "((1, 1), (8, 7))"
      ]
     },
     "execution_count": 44,
     "metadata": {},
     "output_type": "execute_result"
    }
   ],
   "source": [
    "dim = XLSX.get_dimension(sh)\n",
    "start = (dim.start.row_number, dim.start.column_number)\n",
    "end_ = (dim.stop.row_number, dim.stop.column_number)\n",
    "start, end_"
   ]
  },
  {
   "cell_type": "code",
   "execution_count": 45,
   "metadata": {},
   "outputs": [
    {
     "name": "stdout",
     "output_type": "stream",
     "text": [
      "this\tmissing\t1\tmissing\tmissing\tmissing\tmissing\t\n",
      "is a\tmissing\t2\tmissing\tmissing\tmissing\tmissing\t\n",
      "new file\tmissing\t3\tmissing\t1\t4\t7\t\n",
      "100\tmissing\t4\tmissing\t2\t5\t8\t\n",
      "missing\tmissing\tmissing\tmissing\t3\t6\t9\t\n",
      "missing\tmissing\tmissing\tmissing\tmissing\tmissing\tmissing\t\n",
      "1\t2\t3\t4\t5\tmissing\tmissing\t\n",
      "1\t2\t3\t4\tmissing\tmissing\tmissing\t\n"
     ]
    }
   ],
   "source": [
    "for row in start[1]:end_[1]\n",
    "    for col in start[2]:end_[2]\n",
    "        print(sh[row,col])\n",
    "        print(\"\\t\")\n",
    "    end\n",
    "    println()\n",
    "end        "
   ]
  },
  {
   "cell_type": "code",
   "execution_count": 30,
   "metadata": {},
   "outputs": [
    {
     "data": {
      "text/plain": [
       "8×7 Matrix{Any}:\n",
       "    \"this\"       missing  1          missing   missing   missing   missing\n",
       "    \"is a\"       missing  2          missing   missing   missing   missing\n",
       "    \"new file\"   missing  3          missing  1         4         7\n",
       " 100             missing  4          missing  2         5         8\n",
       "    missing      missing   missing   missing  3         6         9\n",
       "    missing      missing   missing   missing   missing   missing   missing\n",
       "   1            2         3         4         5          missing   missing\n",
       "   1            2         3         4          missing   missing   missing"
      ]
     },
     "execution_count": 30,
     "metadata": {},
     "output_type": "execute_result"
    }
   ],
   "source": [
    "sh[:]"
   ]
  },
  {
   "cell_type": "code",
   "execution_count": 31,
   "metadata": {},
   "outputs": [
    {
     "data": {
      "text/plain": [
       "8×7 Matrix{Union{Missing, Float64, Int64, String}}:\n",
       "    \"this\"       missing  1          missing   missing   missing   missing\n",
       "    \"is a\"       missing  2          missing   missing   missing   missing\n",
       "    \"new file\"   missing  3          missing  1         4         7\n",
       " 100             missing  4          missing  2         5         8\n",
       "    missing      missing   missing   missing  3         6         9\n",
       "    missing      missing   missing   missing   missing   missing   missing\n",
       "   1            2         3         4         5          missing   missing\n",
       "   1            2         3         4          missing   missing   missing"
      ]
     },
     "execution_count": 31,
     "metadata": {},
     "output_type": "execute_result"
    }
   ],
   "source": [
    "m = Matrix{Union{Int,Float64,String,Missing}}(undef,(end_[1],end_[2]))\n",
    "m .= sh[:]"
   ]
  },
  {
   "cell_type": "code",
   "execution_count": 32,
   "metadata": {},
   "outputs": [
    {
     "data": {
      "text/plain": [
       "3×2 Matrix{Any}:\n",
       "    \"is a\"      missing\n",
       "    \"new file\"  missing\n",
       " 100            missing"
      ]
     },
     "execution_count": 32,
     "metadata": {},
     "output_type": "execute_result"
    }
   ],
   "source": [
    "xf[XLSX.sheetnames(xf)[1]*\"!A2:B4\"]"
   ]
  },
  {
   "cell_type": "code",
   "execution_count": 46,
   "metadata": {
    "scrolled": true
   },
   "outputs": [
    {
     "data": {
      "text/html": [
       "<div><div style = \"float: left;\"><span>5×4 DataFrame</span></div><div style = \"clear: both;\"></div></div><div class = \"data-frame\" style = \"overflow-x: scroll;\"><table class = \"data-frame\" style = \"margin-bottom: 6px;\"><thead><tr class = \"header\"><th class = \"rowNumber\" style = \"font-weight: bold; text-align: right;\">Row</th><th style = \"text-align: left;\">a</th><th style = \"text-align: left;\">b</th><th style = \"text-align: left;\">c</th><th style = \"text-align: left;\">d</th></tr><tr class = \"subheader headerLastRow\"><th class = \"rowNumber\" style = \"font-weight: bold; text-align: right;\"></th><th title = \"Int64\" style = \"text-align: left;\">Int64</th><th title = \"String\" style = \"text-align: left;\">String</th><th title = \"Float64\" style = \"text-align: left;\">Float64</th><th title = \"Union{Missing, Int64}\" style = \"text-align: left;\">Int64?</th></tr></thead><tbody><tr><td class = \"rowNumber\" style = \"font-weight: bold; text-align: right;\">1</td><td style = \"text-align: right;\">1</td><td style = \"text-align: left;\">Hello1</td><td style = \"text-align: right;\">6.5</td><td style = \"text-align: right;\">11</td></tr><tr><td class = \"rowNumber\" style = \"font-weight: bold; text-align: right;\">2</td><td style = \"text-align: right;\">2</td><td style = \"text-align: left;\">Hello2</td><td style = \"text-align: right;\">7.5</td><td style = \"text-align: right;\">22</td></tr><tr><td class = \"rowNumber\" style = \"font-weight: bold; text-align: right;\">3</td><td style = \"text-align: right;\">3</td><td style = \"text-align: left;\">Hello3</td><td style = \"text-align: right;\">8.5</td><td style = \"text-align: right;\">33</td></tr><tr><td class = \"rowNumber\" style = \"font-weight: bold; text-align: right;\">4</td><td style = \"text-align: right;\">4</td><td style = \"text-align: left;\">Hello4</td><td style = \"text-align: right;\">9.5</td><td style = \"font-style: italic; text-align: right;\">missing</td></tr><tr><td class = \"rowNumber\" style = \"font-weight: bold; text-align: right;\">5</td><td style = \"text-align: right;\">5</td><td style = \"text-align: left;\">Hello5</td><td style = \"text-align: right;\">10.5</td><td style = \"font-style: italic; text-align: right;\">missing</td></tr></tbody></table></div>"
      ],
      "text/latex": [
       "\\begin{tabular}{r|cccc}\n",
       "\t& a & b & c & d\\\\\n",
       "\t\\hline\n",
       "\t& Int64 & String & Float64 & Int64?\\\\\n",
       "\t\\hline\n",
       "\t1 & 1 & Hello1 & 6.5 & 11 \\\\\n",
       "\t2 & 2 & Hello2 & 7.5 & 22 \\\\\n",
       "\t3 & 3 & Hello3 & 8.5 & 33 \\\\\n",
       "\t4 & 4 & Hello4 & 9.5 & \\emph{missing} \\\\\n",
       "\t5 & 5 & Hello5 & 10.5 & \\emph{missing} \\\\\n",
       "\\end{tabular}\n"
      ],
      "text/plain": [
       "\u001b[1m5×4 DataFrame\u001b[0m\n",
       "\u001b[1m Row \u001b[0m│\u001b[1m a     \u001b[0m\u001b[1m b      \u001b[0m\u001b[1m c       \u001b[0m\u001b[1m d       \u001b[0m\n",
       "     │\u001b[90m Int64 \u001b[0m\u001b[90m String \u001b[0m\u001b[90m Float64 \u001b[0m\u001b[90m Int64?  \u001b[0m\n",
       "─────┼─────────────────────────────────\n",
       "   1 │     1  Hello1      6.5       11\n",
       "   2 │     2  Hello2      7.5       22\n",
       "   3 │     3  Hello3      8.5       33\n",
       "   4 │     4  Hello4      9.5 \u001b[90m missing \u001b[0m\n",
       "   5 │     5  Hello5     10.5 \u001b[90m missing \u001b[0m"
      ]
     },
     "execution_count": 46,
     "metadata": {},
     "output_type": "execute_result"
    }
   ],
   "source": [
    "using DataFrames\n",
    "df = DataFrame(a=1:5, b=string.(\"Hello\",1:5), c=6.5:10.5, d=[11,22,33,missing,missing] )"
   ]
  },
  {
   "cell_type": "code",
   "execution_count": 34,
   "metadata": {},
   "outputs": [
    {
     "data": {
      "text/plain": [
       "Vector{Union{Missing, Int64}}\u001b[90m (alias for \u001b[39m\u001b[90mArray{Union{Missing, Int64}, 1}\u001b[39m\u001b[90m)\u001b[39m"
      ]
     },
     "execution_count": 34,
     "metadata": {},
     "output_type": "execute_result"
    }
   ],
   "source": [
    "typeof(df.d)"
   ]
  },
  {
   "cell_type": "code",
   "execution_count": 47,
   "metadata": {},
   "outputs": [],
   "source": [
    "XLSX.writetable(joinpath(pwd(),\"df.xlsx\"), overwrite=true, \n",
    "    WORKSHEET_A=(collect(DataFrames.eachcol(df)), DataFrames.names(df)),\n",
    "    MYWS_B=(collect(DataFrames.eachcol(df)), DataFrames.names(df)),\n",
    ")\n",
    "# after comma new worksheets can be added tj. WORKSHEET_B=(collect(DataFrames.eachcol(df)), DataFrames.names(df)) itd."
   ]
  },
  {
   "cell_type": "code",
   "execution_count": 48,
   "metadata": {},
   "outputs": [
    {
     "data": {
      "text/plain": [
       "XLSX.DataTable(Any[[1, 2, 3, 4, 5], [\"Hello1\", \"Hello2\", \"Hello3\", \"Hello4\", \"Hello5\"], [6.5, 7.5, 8.5, 9.5, 10.5], Union{Missing, Int64}[11, 22, 33, missing, missing]], [:a, :b, :c, :d], Dict(:a => 1, :b => 2, :d => 4, :c => 3))"
      ]
     },
     "execution_count": 48,
     "metadata": {},
     "output_type": "execute_result"
    }
   ],
   "source": [
    "data2 = XLSX.readtable(joinpath(pwd(),\"df.xlsx\"),\"WORKSHEET_A\";infer_eltypes=true)"
   ]
  },
  {
   "cell_type": "code",
   "execution_count": 49,
   "metadata": {},
   "outputs": [
    {
     "data": {
      "text/html": [
       "<div><div style = \"float: left;\"><span>5×4 DataFrame</span></div><div style = \"clear: both;\"></div></div><div class = \"data-frame\" style = \"overflow-x: scroll;\"><table class = \"data-frame\" style = \"margin-bottom: 6px;\"><thead><tr class = \"header\"><th class = \"rowNumber\" style = \"font-weight: bold; text-align: right;\">Row</th><th style = \"text-align: left;\">a</th><th style = \"text-align: left;\">b</th><th style = \"text-align: left;\">c</th><th style = \"text-align: left;\">d</th></tr><tr class = \"subheader headerLastRow\"><th class = \"rowNumber\" style = \"font-weight: bold; text-align: right;\"></th><th title = \"Int64\" style = \"text-align: left;\">Int64</th><th title = \"String\" style = \"text-align: left;\">String</th><th title = \"Float64\" style = \"text-align: left;\">Float64</th><th title = \"Union{Missing, Int64}\" style = \"text-align: left;\">Int64?</th></tr></thead><tbody><tr><td class = \"rowNumber\" style = \"font-weight: bold; text-align: right;\">1</td><td style = \"text-align: right;\">1</td><td style = \"text-align: left;\">Hello1</td><td style = \"text-align: right;\">6.5</td><td style = \"text-align: right;\">11</td></tr><tr><td class = \"rowNumber\" style = \"font-weight: bold; text-align: right;\">2</td><td style = \"text-align: right;\">2</td><td style = \"text-align: left;\">Hello2</td><td style = \"text-align: right;\">7.5</td><td style = \"text-align: right;\">22</td></tr><tr><td class = \"rowNumber\" style = \"font-weight: bold; text-align: right;\">3</td><td style = \"text-align: right;\">3</td><td style = \"text-align: left;\">Hello3</td><td style = \"text-align: right;\">8.5</td><td style = \"text-align: right;\">33</td></tr><tr><td class = \"rowNumber\" style = \"font-weight: bold; text-align: right;\">4</td><td style = \"text-align: right;\">4</td><td style = \"text-align: left;\">Hello4</td><td style = \"text-align: right;\">9.5</td><td style = \"font-style: italic; text-align: right;\">missing</td></tr><tr><td class = \"rowNumber\" style = \"font-weight: bold; text-align: right;\">5</td><td style = \"text-align: right;\">5</td><td style = \"text-align: left;\">Hello5</td><td style = \"text-align: right;\">10.5</td><td style = \"font-style: italic; text-align: right;\">missing</td></tr></tbody></table></div>"
      ],
      "text/latex": [
       "\\begin{tabular}{r|cccc}\n",
       "\t& a & b & c & d\\\\\n",
       "\t\\hline\n",
       "\t& Int64 & String & Float64 & Int64?\\\\\n",
       "\t\\hline\n",
       "\t1 & 1 & Hello1 & 6.5 & 11 \\\\\n",
       "\t2 & 2 & Hello2 & 7.5 & 22 \\\\\n",
       "\t3 & 3 & Hello3 & 8.5 & 33 \\\\\n",
       "\t4 & 4 & Hello4 & 9.5 & \\emph{missing} \\\\\n",
       "\t5 & 5 & Hello5 & 10.5 & \\emph{missing} \\\\\n",
       "\\end{tabular}\n"
      ],
      "text/plain": [
       "\u001b[1m5×4 DataFrame\u001b[0m\n",
       "\u001b[1m Row \u001b[0m│\u001b[1m a     \u001b[0m\u001b[1m b      \u001b[0m\u001b[1m c       \u001b[0m\u001b[1m d       \u001b[0m\n",
       "     │\u001b[90m Int64 \u001b[0m\u001b[90m String \u001b[0m\u001b[90m Float64 \u001b[0m\u001b[90m Int64?  \u001b[0m\n",
       "─────┼─────────────────────────────────\n",
       "   1 │     1  Hello1      6.5       11\n",
       "   2 │     2  Hello2      7.5       22\n",
       "   3 │     3  Hello3      8.5       33\n",
       "   4 │     4  Hello4      9.5 \u001b[90m missing \u001b[0m\n",
       "   5 │     5  Hello5     10.5 \u001b[90m missing \u001b[0m"
      ]
     },
     "execution_count": 49,
     "metadata": {},
     "output_type": "execute_result"
    }
   ],
   "source": [
    "DataFrame(data2)"
   ]
  },
  {
   "cell_type": "code",
   "execution_count": 50,
   "metadata": {},
   "outputs": [
    {
     "data": {
      "text/plain": [
       "IOStream(<file myfile1.arrow>)"
      ]
     },
     "execution_count": 50,
     "metadata": {},
     "output_type": "execute_result"
    }
   ],
   "source": [
    "rm(\"myfile1.arrow\";force=true)\n",
    "using Arrow\n",
    "open(\"myfile1.arrow\",\"w\") do f\n",
    "    Arrow.write(f, df)\n",
    "end"
   ]
  },
  {
   "cell_type": "code",
   "execution_count": 51,
   "metadata": {},
   "outputs": [
    {
     "data": {
      "text/html": [
       "<div><div style = \"float: left;\"><span>5×4 DataFrame</span></div><div style = \"clear: both;\"></div></div><div class = \"data-frame\" style = \"overflow-x: scroll;\"><table class = \"data-frame\" style = \"margin-bottom: 6px;\"><thead><tr class = \"header\"><th class = \"rowNumber\" style = \"font-weight: bold; text-align: right;\">Row</th><th style = \"text-align: left;\">a</th><th style = \"text-align: left;\">b</th><th style = \"text-align: left;\">c</th><th style = \"text-align: left;\">d</th></tr><tr class = \"subheader headerLastRow\"><th class = \"rowNumber\" style = \"font-weight: bold; text-align: right;\"></th><th title = \"Int64\" style = \"text-align: left;\">Int64</th><th title = \"String\" style = \"text-align: left;\">String</th><th title = \"Float64\" style = \"text-align: left;\">Float64</th><th title = \"Union{Missing, Int64}\" style = \"text-align: left;\">Int64?</th></tr></thead><tbody><tr><td class = \"rowNumber\" style = \"font-weight: bold; text-align: right;\">1</td><td style = \"text-align: right;\">1</td><td style = \"text-align: left;\">Hello1</td><td style = \"text-align: right;\">6.5</td><td style = \"text-align: right;\">11</td></tr><tr><td class = \"rowNumber\" style = \"font-weight: bold; text-align: right;\">2</td><td style = \"text-align: right;\">2</td><td style = \"text-align: left;\">Hello2</td><td style = \"text-align: right;\">7.5</td><td style = \"text-align: right;\">22</td></tr><tr><td class = \"rowNumber\" style = \"font-weight: bold; text-align: right;\">3</td><td style = \"text-align: right;\">3</td><td style = \"text-align: left;\">Hello3</td><td style = \"text-align: right;\">8.5</td><td style = \"text-align: right;\">33</td></tr><tr><td class = \"rowNumber\" style = \"font-weight: bold; text-align: right;\">4</td><td style = \"text-align: right;\">4</td><td style = \"text-align: left;\">Hello4</td><td style = \"text-align: right;\">9.5</td><td style = \"font-style: italic; text-align: right;\">missing</td></tr><tr><td class = \"rowNumber\" style = \"font-weight: bold; text-align: right;\">5</td><td style = \"text-align: right;\">5</td><td style = \"text-align: left;\">Hello5</td><td style = \"text-align: right;\">10.5</td><td style = \"font-style: italic; text-align: right;\">missing</td></tr></tbody></table></div>"
      ],
      "text/latex": [
       "\\begin{tabular}{r|cccc}\n",
       "\t& a & b & c & d\\\\\n",
       "\t\\hline\n",
       "\t& Int64 & String & Float64 & Int64?\\\\\n",
       "\t\\hline\n",
       "\t1 & 1 & Hello1 & 6.5 & 11 \\\\\n",
       "\t2 & 2 & Hello2 & 7.5 & 22 \\\\\n",
       "\t3 & 3 & Hello3 & 8.5 & 33 \\\\\n",
       "\t4 & 4 & Hello4 & 9.5 & \\emph{missing} \\\\\n",
       "\t5 & 5 & Hello5 & 10.5 & \\emph{missing} \\\\\n",
       "\\end{tabular}\n"
      ],
      "text/plain": [
       "\u001b[1m5×4 DataFrame\u001b[0m\n",
       "\u001b[1m Row \u001b[0m│\u001b[1m a     \u001b[0m\u001b[1m b      \u001b[0m\u001b[1m c       \u001b[0m\u001b[1m d       \u001b[0m\n",
       "     │\u001b[90m Int64 \u001b[0m\u001b[90m String \u001b[0m\u001b[90m Float64 \u001b[0m\u001b[90m Int64?  \u001b[0m\n",
       "─────┼─────────────────────────────────\n",
       "   1 │     1  Hello1      6.5       11\n",
       "   2 │     2  Hello2      7.5       22\n",
       "   3 │     3  Hello3      8.5       33\n",
       "   4 │     4  Hello4      9.5 \u001b[90m missing \u001b[0m\n",
       "   5 │     5  Hello5     10.5 \u001b[90m missing \u001b[0m"
      ]
     },
     "execution_count": 51,
     "metadata": {},
     "output_type": "execute_result"
    }
   ],
   "source": [
    "df"
   ]
  },
  {
   "cell_type": "code",
   "execution_count": 57,
   "metadata": {},
   "outputs": [],
   "source": [
    "using Serialization"
   ]
  },
  {
   "cell_type": "code",
   "execution_count": 52,
   "metadata": {},
   "outputs": [
    {
     "data": {
      "text/plain": [
       "Arrow.Table with 5 rows, 4 columns, and schema:\n",
       " :a  Int64\n",
       " :b  String\n",
       " :c  Float64\n",
       " :d  Union{Missing, Int64}"
      ]
     },
     "execution_count": 52,
     "metadata": {},
     "output_type": "execute_result"
    }
   ],
   "source": [
    "tab = Arrow.Table(\"myfile1.arrow\")"
   ]
  },
  {
   "cell_type": "code",
   "execution_count": 53,
   "metadata": {},
   "outputs": [
    {
     "data": {
      "text/html": [
       "<div><div style = \"float: left;\"><span>5×4 DataFrame</span></div><div style = \"clear: both;\"></div></div><div class = \"data-frame\" style = \"overflow-x: scroll;\"><table class = \"data-frame\" style = \"margin-bottom: 6px;\"><thead><tr class = \"header\"><th class = \"rowNumber\" style = \"font-weight: bold; text-align: right;\">Row</th><th style = \"text-align: left;\">a</th><th style = \"text-align: left;\">b</th><th style = \"text-align: left;\">c</th><th style = \"text-align: left;\">d</th></tr><tr class = \"subheader headerLastRow\"><th class = \"rowNumber\" style = \"font-weight: bold; text-align: right;\"></th><th title = \"Int64\" style = \"text-align: left;\">Int64</th><th title = \"String\" style = \"text-align: left;\">String</th><th title = \"Float64\" style = \"text-align: left;\">Float64</th><th title = \"Union{Missing, Int64}\" style = \"text-align: left;\">Int64?</th></tr></thead><tbody><tr><td class = \"rowNumber\" style = \"font-weight: bold; text-align: right;\">1</td><td style = \"text-align: right;\">1</td><td style = \"text-align: left;\">Hello1</td><td style = \"text-align: right;\">6.5</td><td style = \"text-align: right;\">11</td></tr><tr><td class = \"rowNumber\" style = \"font-weight: bold; text-align: right;\">2</td><td style = \"text-align: right;\">2</td><td style = \"text-align: left;\">Hello2</td><td style = \"text-align: right;\">7.5</td><td style = \"text-align: right;\">22</td></tr><tr><td class = \"rowNumber\" style = \"font-weight: bold; text-align: right;\">3</td><td style = \"text-align: right;\">3</td><td style = \"text-align: left;\">Hello3</td><td style = \"text-align: right;\">8.5</td><td style = \"text-align: right;\">33</td></tr><tr><td class = \"rowNumber\" style = \"font-weight: bold; text-align: right;\">4</td><td style = \"text-align: right;\">4</td><td style = \"text-align: left;\">Hello4</td><td style = \"text-align: right;\">9.5</td><td style = \"font-style: italic; text-align: right;\">missing</td></tr><tr><td class = \"rowNumber\" style = \"font-weight: bold; text-align: right;\">5</td><td style = \"text-align: right;\">5</td><td style = \"text-align: left;\">Hello5</td><td style = \"text-align: right;\">10.5</td><td style = \"font-style: italic; text-align: right;\">missing</td></tr></tbody></table></div>"
      ],
      "text/latex": [
       "\\begin{tabular}{r|cccc}\n",
       "\t& a & b & c & d\\\\\n",
       "\t\\hline\n",
       "\t& Int64 & String & Float64 & Int64?\\\\\n",
       "\t\\hline\n",
       "\t1 & 1 & Hello1 & 6.5 & 11 \\\\\n",
       "\t2 & 2 & Hello2 & 7.5 & 22 \\\\\n",
       "\t3 & 3 & Hello3 & 8.5 & 33 \\\\\n",
       "\t4 & 4 & Hello4 & 9.5 & \\emph{missing} \\\\\n",
       "\t5 & 5 & Hello5 & 10.5 & \\emph{missing} \\\\\n",
       "\\end{tabular}\n"
      ],
      "text/plain": [
       "\u001b[1m5×4 DataFrame\u001b[0m\n",
       "\u001b[1m Row \u001b[0m│\u001b[1m a     \u001b[0m\u001b[1m b      \u001b[0m\u001b[1m c       \u001b[0m\u001b[1m d       \u001b[0m\n",
       "     │\u001b[90m Int64 \u001b[0m\u001b[90m String \u001b[0m\u001b[90m Float64 \u001b[0m\u001b[90m Int64?  \u001b[0m\n",
       "─────┼─────────────────────────────────\n",
       "   1 │     1  Hello1      6.5       11\n",
       "   2 │     2  Hello2      7.5       22\n",
       "   3 │     3  Hello3      8.5       33\n",
       "   4 │     4  Hello4      9.5 \u001b[90m missing \u001b[0m\n",
       "   5 │     5  Hello5     10.5 \u001b[90m missing \u001b[0m"
      ]
     },
     "execution_count": 53,
     "metadata": {},
     "output_type": "execute_result"
    }
   ],
   "source": [
    "Arrow.Table(\"myfile1.arrow\") |> DataFrame"
   ]
  },
  {
   "cell_type": "code",
   "execution_count": 59,
   "metadata": {
    "scrolled": true
   },
   "outputs": [],
   "source": [
    "using HTTP\n",
    "response = HTTP.get(\"https://szufel.pl/pliki/plik.txt\");"
   ]
  },
  {
   "cell_type": "code",
   "execution_count": 60,
   "metadata": {},
   "outputs": [
    {
     "name": "stdout",
     "output_type": "stream",
     "text": [
      "response.status = 200\n"
     ]
    },
    {
     "data": {
      "text/plain": [
       "200"
      ]
     },
     "execution_count": 60,
     "metadata": {},
     "output_type": "execute_result"
    }
   ],
   "source": [
    "@show response.status\n"
   ]
  },
  {
   "cell_type": "code",
   "execution_count": 61,
   "metadata": {},
   "outputs": [
    {
     "data": {
      "text/plain": [
       "408-element Vector{UInt8}:\n",
       " 0x7b\n",
       " 0x0a\n",
       " 0x20\n",
       " 0x20\n",
       " 0x22\n",
       " 0x66\n",
       " 0x69\n",
       " 0x72\n",
       " 0x73\n",
       " 0x74\n",
       " 0x4e\n",
       " 0x61\n",
       " 0x6d\n",
       "    ⋮\n",
       " 0x65\n",
       " 0x22\n",
       " 0x3a\n",
       " 0x20\n",
       " 0x6e\n",
       " 0x75\n",
       " 0x6c\n",
       " 0x6c\n",
       " 0x0a\n",
       " 0x7d\n",
       " 0x0a\n",
       " 0x0a"
      ]
     },
     "execution_count": 61,
     "metadata": {},
     "output_type": "execute_result"
    }
   ],
   "source": [
    "response.body"
   ]
  },
  {
   "cell_type": "code",
   "execution_count": 62,
   "metadata": {},
   "outputs": [
    {
     "name": "stdout",
     "output_type": "stream",
     "text": [
      "{\n",
      "  \"firstName\": \"John\",\n",
      "  \"lastName\": \"Smith\",\n",
      "  \"isAlive\": true,\n",
      "  \"age\": 25,\n",
      "  \"address\": {\n",
      "    \"streetAddress\": \"21 2nd Street\",\n",
      "    \"city\": \"New York\",\n",
      "    \"state\": \"NY\",\n",
      "    \"postalCode\": \"10021-3100\"\n",
      "  },\n",
      "  \"phoneNumbers\": [\n",
      "    {\n",
      "      \"type\": \"home\",\n",
      "      \"number\": \"212 555-1234\"\n",
      "    },\n",
      "    {\n",
      "      \"type\": \"office\",\n",
      "      \"number\": \"646 555-4567\"\n",
      "    }\n",
      "  ],\n",
      "  \"children\": [],\n",
      "  \"spouse\": null\n",
      "}\n",
      "\n",
      "\n"
     ]
    }
   ],
   "source": [
    "data = String(response.body)\n",
    "println(data)"
   ]
  },
  {
   "cell_type": "code",
   "execution_count": 63,
   "metadata": {},
   "outputs": [
    {
     "data": {
      "text/plain": [
       "JSON3.Object{Base.CodeUnits{UInt8, String}, Vector{UInt64}} with 8 entries:\n",
       "  :firstName    => \"John\"\n",
       "  :lastName     => \"Smith\"\n",
       "  :isAlive      => true\n",
       "  :age          => 25\n",
       "  :address      => {…\n",
       "  :phoneNumbers => Object[{…\n",
       "  :children     => Union{}[]\n",
       "  :spouse       => nothing"
      ]
     },
     "execution_count": 63,
     "metadata": {},
     "output_type": "execute_result"
    }
   ],
   "source": [
    "using JSON3\n",
    "dat = JSON3.read(data)"
   ]
  },
  {
   "cell_type": "code",
   "execution_count": 69,
   "metadata": {},
   "outputs": [
    {
     "data": {
      "text/plain": [
       "\"21 2nd Street\""
      ]
     },
     "execution_count": 69,
     "metadata": {},
     "output_type": "execute_result"
    }
   ],
   "source": [
    "dat[:address][:streetAddress ]"
   ]
  },
  {
   "cell_type": "code",
   "execution_count": 64,
   "metadata": {},
   "outputs": [
    {
     "data": {
      "text/plain": [
       "JSON3.Object{Base.CodeUnits{UInt8, String}, SubArray{UInt64, 1, Vector{UInt64}, Tuple{UnitRange{Int64}}, true}} with 2 entries:\n",
       "  :type   => \"home\"\n",
       "  :number => \"212 555-1234\""
      ]
     },
     "execution_count": 64,
     "metadata": {},
     "output_type": "execute_result"
    }
   ],
   "source": [
    "#dat = Dict(JSON3.read(data))\n",
    "dat[:phoneNumbers][1]"
   ]
  },
  {
   "cell_type": "code",
   "execution_count": 48,
   "metadata": {},
   "outputs": [
    {
     "data": {
      "text/plain": [
       "JSON3.Object{Base.CodeUnits{UInt8, String}, SubArray{UInt64, 1, Vector{UInt64}, Tuple{UnitRange{Int64}}, true}} with 2 entries:\n",
       "  :type   => \"home\"\n",
       "  :number => \"212 555-1234\""
      ]
     },
     "execution_count": 48,
     "metadata": {},
     "output_type": "execute_result"
    }
   ],
   "source": [
    "dat[:phoneNumbers][1]"
   ]
  },
  {
   "cell_type": "code",
   "execution_count": 49,
   "metadata": {},
   "outputs": [
    {
     "data": {
      "text/plain": [
       "\"212 555-1234\""
      ]
     },
     "execution_count": 49,
     "metadata": {},
     "output_type": "execute_result"
    }
   ],
   "source": [
    "dat[:phoneNumbers][1][:number]"
   ]
  },
  {
   "cell_type": "code",
   "execution_count": 51,
   "metadata": {},
   "outputs": [
    {
     "name": "stdout",
     "output_type": "stream",
     "text": [
      "file_name = \"C:\\\\Users\\\\pszuf\\\\AppData\\\\Local\\\\Temp\\\\jl_fAHwTEpGps.json\"\n"
     ]
    }
   ],
   "source": [
    "file_name = tempname()*\".json\"\n",
    "open(file_name,\"w\") do f\n",
    "    JSON3.write(f, dat)\n",
    "end\n",
    "@show file_name;"
   ]
  }
 ],
 "metadata": {
  "kernelspec": {
   "display_name": "Julia 1.10.1",
   "language": "julia",
   "name": "julia-1.10"
  },
  "language_info": {
   "file_extension": ".jl",
   "mimetype": "application/julia",
   "name": "julia",
   "version": "1.10.1"
  }
 },
 "nbformat": 4,
 "nbformat_minor": 4
}
