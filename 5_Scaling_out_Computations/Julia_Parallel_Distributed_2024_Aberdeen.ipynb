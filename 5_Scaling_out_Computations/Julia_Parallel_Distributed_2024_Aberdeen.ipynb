{
 "cells": [
  {
   "cell_type": "markdown",
   "id": "e4e18dfa",
   "metadata": {},
   "source": [
    "# Scaling out numerical computing in Julia\n",
    "Przemysław Szufel\n",
    "\n",
    "\n",
    "\n",
    "\n",
    "<a class=\"anchor\" id=\"toc\"></a>\n",
    "## Table of content\n",
    "\n",
    "    \n",
    "1. [Parallelize via Single Instruction Multiple Data (SIMD)](#simd)\n",
    "2. [Green threading](#green)\n",
    "3. [Multithreading](#multithreading)\n",
    "4. [Multi-processing and distributed computing](#multiprocessing)"
   ]
  },
  {
   "cell_type": "markdown",
   "id": "73dedff3-ed99-4fc7-9c08-f707e54c284c",
   "metadata": {},
   "source": [
    "Before running Jupyter notebook set in Julia number of threads.\n",
    "This should be done *before* actually running the `notebook()` command.\n",
    "The number of threads can be also set up in Julia options in Visual Studio code (if this is used to run this notebook).\n",
    "```\n",
    "# run this code from Julia console just before starting Jupyter Notebook\n",
    "ENV[\"JULIA_NUM_THREADS\"]=4\n",
    "```"
   ]
  },
  {
   "cell_type": "code",
   "execution_count": 1,
   "id": "68b0836a",
   "metadata": {},
   "outputs": [
    {
     "name": "stdout",
     "output_type": "stream",
     "text": [
      "Number of threads that your Julia is run: ## 4\n"
     ]
    }
   ],
   "source": [
    "println(\"Number of threads that your Julia is run: ## $(Threads.nthreads())\")"
   ]
  },
  {
   "cell_type": "code",
   "execution_count": 2,
   "id": "4aa1aaf0",
   "metadata": {},
   "outputs": [],
   "source": [
    "using BenchmarkTools, Distributed"
   ]
  },
  {
   "cell_type": "markdown",
   "id": "02a83007",
   "metadata": {},
   "source": [
    "<a class=\"anchor\" id=\"simd\"></a>\n",
    "### Parallelize via Single Instruction Multiple Data (SIMD)\n",
    "---- [Return to table of contents](#toc) ---\n",
    "\n"
   ]
  },
  {
   "cell_type": "code",
   "execution_count": 3,
   "id": "a6acee57",
   "metadata": {},
   "outputs": [
    {
     "data": {
      "text/plain": [
       "dot1 (generic function with 1 method)"
      ]
     },
     "execution_count": 3,
     "metadata": {},
     "output_type": "execute_result"
    }
   ],
   "source": [
    "function dot1(x, y)\n",
    "    s = 0.0\n",
    "    for i in 1:length(x)\n",
    "        @inbounds s += x[i]*y[i]\n",
    "    end\n",
    "    s\n",
    "end"
   ]
  },
  {
   "cell_type": "code",
   "execution_count": 4,
   "id": "869b35dc",
   "metadata": {},
   "outputs": [
    {
     "data": {
      "text/plain": [
       "dot2 (generic function with 1 method)"
      ]
     },
     "execution_count": 4,
     "metadata": {},
     "output_type": "execute_result"
    }
   ],
   "source": [
    "function dot2(x, y)\n",
    "    s = 0.0\n",
    "    @simd for i in 1:length(x)\n",
    "        @inbounds s += x[i]*y[i]\n",
    "    end\n",
    "    s\n",
    "end"
   ]
  },
  {
   "cell_type": "code",
   "execution_count": 5,
   "id": "693abf6e",
   "metadata": {},
   "outputs": [
    {
     "name": "stdout",
     "output_type": "stream",
     "text": [
      "  6.250 μs (0 allocations: 0 bytes)\n",
      "  1.190 μs (0 allocations: 0 bytes)\n"
     ]
    },
    {
     "data": {
      "text/plain": [
       "2.5163178516501915e7"
      ]
     },
     "execution_count": 5,
     "metadata": {},
     "output_type": "execute_result"
    }
   ],
   "source": [
    "x = 100*rand(10000)\n",
    "y = 100*rand(10000);\n",
    "\n",
    "@btime dot1($x, $y)\n",
    "@btime dot2($x, $y)"
   ]
  },
  {
   "cell_type": "code",
   "execution_count": 6,
   "id": "fceca0fa",
   "metadata": {},
   "outputs": [
    {
     "data": {
      "text/plain": [
       "2.516317851650193e7"
      ]
     },
     "execution_count": 6,
     "metadata": {},
     "output_type": "execute_result"
    }
   ],
   "source": [
    "res1 =  dot1(x, y)"
   ]
  },
  {
   "cell_type": "code",
   "execution_count": 9,
   "id": "91f50430-e5a8-48b0-b947-88b2cbbff5a0",
   "metadata": {},
   "outputs": [
    {
     "data": {
      "text/plain": [
       "2.516317851650193e7"
      ]
     },
     "execution_count": 9,
     "metadata": {},
     "output_type": "execute_result"
    }
   ],
   "source": [
    "res1 =  dot1(x, y)"
   ]
  },
  {
   "cell_type": "code",
   "execution_count": 10,
   "id": "6806d93b-041d-4c8b-a35e-cc01679dbe90",
   "metadata": {},
   "outputs": [
    {
     "data": {
      "text/plain": [
       "2.5163178516501915e7"
      ]
     },
     "execution_count": 10,
     "metadata": {},
     "output_type": "execute_result"
    }
   ],
   "source": [
    "res2 =  dot2(x, y)"
   ]
  },
  {
   "cell_type": "code",
   "execution_count": 7,
   "id": "5dc2f9c3",
   "metadata": {
    "scrolled": true
   },
   "outputs": [
    {
     "data": {
      "text/plain": [
       "2.5163178516501915e7"
      ]
     },
     "execution_count": 7,
     "metadata": {},
     "output_type": "execute_result"
    }
   ],
   "source": [
    "res2 =  dot2(x, y)"
   ]
  },
  {
   "cell_type": "code",
   "execution_count": 8,
   "id": "c05b2210",
   "metadata": {},
   "outputs": [
    {
     "data": {
      "text/plain": [
       "false"
      ]
     },
     "execution_count": 8,
     "metadata": {},
     "output_type": "execute_result"
    }
   ],
   "source": [
    "res1 == res2"
   ]
  },
  {
   "cell_type": "code",
   "execution_count": 34,
   "id": "290606ff",
   "metadata": {},
   "outputs": [
    {
     "name": "stdout",
     "output_type": "stream",
     "text": [
      "res1 = 2.4943127090471815e7\n",
      "res2 = 2.4943127090471864e7\n"
     ]
    },
    {
     "data": {
      "text/plain": [
       "2.4943127090471864e7"
      ]
     },
     "execution_count": 34,
     "metadata": {},
     "output_type": "execute_result"
    }
   ],
   "source": [
    "@show res1 \n",
    "@show res2"
   ]
  },
  {
   "cell_type": "markdown",
   "id": "b939e997",
   "metadata": {},
   "source": [
    "<a class=\"anchor\" id=\"green\"></a>\n",
    "### Green threading \n",
    "---- [Return to table of contents](#toc) ---\n"
   ]
  },
  {
   "cell_type": "code",
   "execution_count": 11,
   "id": "f7da7625",
   "metadata": {},
   "outputs": [
    {
     "name": "stdout",
     "output_type": "stream",
     "text": [
      "  2.010066 seconds (44 allocations: 1.297 KiB)\n"
     ]
    }
   ],
   "source": [
    "@time sleep(2)"
   ]
  },
  {
   "cell_type": "code",
   "execution_count": 12,
   "id": "fe3275b2",
   "metadata": {
    "scrolled": true
   },
   "outputs": [
    {
     "name": "stdout",
     "output_type": "stream",
     "text": [
      "  0.085800 seconds (2.80 k allocations: 201.922 KiB, 99.70% compilation time)\n"
     ]
    },
    {
     "data": {
      "text/plain": [
       "Task (runnable) @0x0000020422383650"
      ]
     },
     "execution_count": 12,
     "metadata": {},
     "output_type": "execute_result"
    }
   ],
   "source": [
    "@time t = @async sleep(4)"
   ]
  },
  {
   "cell_type": "code",
   "execution_count": 16,
   "id": "572b606b",
   "metadata": {},
   "outputs": [
    {
     "data": {
      "text/plain": [
       "dojob (generic function with 1 method)"
      ]
     },
     "execution_count": 16,
     "metadata": {},
     "output_type": "execute_result"
    }
   ],
   "source": [
    "function dojob(i)\n",
    "    val = round(rand(), digits=2)\n",
    "    sleep(val)   # this could be external computations with I/O\n",
    "    i, val\n",
    "end"
   ]
  },
  {
   "cell_type": "code",
   "execution_count": 19,
   "id": "6c96c8d7",
   "metadata": {},
   "outputs": [
    {
     "data": {
      "text/plain": [
       "8-element Vector{Tuple{Int64, Float64}}:\n",
       " (1, 5.0e-324)\n",
       " (1, 5.0e-324)\n",
       " (1, 5.0e-324)\n",
       " (1, 0.0)\n",
       " (0, 0.0)\n",
       " (0, 0.0)\n",
       " (0, 0.0)\n",
       " (0, 0.0)"
      ]
     },
     "execution_count": 19,
     "metadata": {},
     "output_type": "execute_result"
    }
   ],
   "source": [
    "result = Vector{Tuple{Int,Float64}}(undef, 8)"
   ]
  },
  {
   "cell_type": "code",
   "execution_count": 20,
   "id": "e127dc06",
   "metadata": {},
   "outputs": [
    {
     "name": "stdout",
     "output_type": "stream",
     "text": [
      "  4.052767 seconds (660 allocations: 41.969 KiB, 0.46% compilation time)\n"
     ]
    },
    {
     "data": {
      "text/plain": [
       "8-element Vector{Tuple{Int64, Float64}}:\n",
       " (1, 0.15)\n",
       " (2, 0.11)\n",
       " (3, 0.81)\n",
       " (4, 0.96)\n",
       " (5, 0.15)\n",
       " (6, 0.14)\n",
       " (7, 0.88)\n",
       " (8, 0.78)"
      ]
     },
     "execution_count": 20,
     "metadata": {},
     "output_type": "execute_result"
    }
   ],
   "source": [
    "@time for i=1:8\n",
    "    result[i] = dojob(i)\n",
    "end\n",
    "result"
   ]
  },
  {
   "cell_type": "code",
   "execution_count": 21,
   "id": "3bf5cf64",
   "metadata": {
    "scrolled": true
   },
   "outputs": [
    {
     "name": "stdout",
     "output_type": "stream",
     "text": [
      "  0.000187 seconds (81 allocations: 7.055 KiB)\n"
     ]
    },
    {
     "data": {
      "text/plain": [
       "8-element Vector{Tuple{Int64, Float64}}:\n",
       " (-1, 6.95261695303296e-310)\n",
       " (0, 6.95261881366205e-310)\n",
       " (2, 6.95261881366205e-310)\n",
       " (3, 6.95261881366205e-310)\n",
       " (3, 6.9526188136573e-310)\n",
       " (2216718762992, 6.95261881365257e-310)\n",
       " (140722544826896, 6.95261881365257e-310)\n",
       " (140722560313584, 6.95261881365257e-310)"
      ]
     },
     "execution_count": 21,
     "metadata": {},
     "output_type": "execute_result"
    }
   ],
   "source": [
    "result = Vector{Tuple{Int,Float64}}(undef, 8);\n",
    "@time for i=1:8\n",
    "   @async result[i] = dojob(i)\n",
    "end\n",
    "result"
   ]
  },
  {
   "cell_type": "code",
   "execution_count": 22,
   "id": "280228a5-684e-4784-95a3-63dd7488e3f9",
   "metadata": {},
   "outputs": [
    {
     "data": {
      "text/plain": [
       "8-element Vector{Tuple{Int64, Float64}}:\n",
       " (1, 0.02)\n",
       " (2, 0.92)\n",
       " (3, 0.88)\n",
       " (4, 0.18)\n",
       " (5, 0.99)\n",
       " (6, 0.18)\n",
       " (7, 0.44)\n",
       " (8, 0.2)"
      ]
     },
     "execution_count": 22,
     "metadata": {},
     "output_type": "execute_result"
    }
   ],
   "source": [
    "result\n"
   ]
  },
  {
   "cell_type": "code",
   "execution_count": 23,
   "id": "6bc95ae6",
   "metadata": {},
   "outputs": [
    {
     "name": "stdout",
     "output_type": "stream",
     "text": [
      "  1.003600 seconds (1.49 k allocations: 81.789 KiB, 7.10% compilation time)\n"
     ]
    },
    {
     "data": {
      "text/plain": [
       "8-element Vector{Tuple{Int64, Float64}}:\n",
       " (1, 0.21)\n",
       " (2, 0.3)\n",
       " (3, 0.11)\n",
       " (4, 0.63)\n",
       " (5, 0.93)\n",
       " (6, 0.68)\n",
       " (7, 0.45)\n",
       " (8, 0.08)"
      ]
     },
     "execution_count": 23,
     "metadata": {},
     "output_type": "execute_result"
    }
   ],
   "source": [
    "result = Vector{Tuple{Int,Float64}}(undef, 8);\n",
    "@time @sync for i=1:8\n",
    "   @async result[i] = dojob(i)\n",
    "end\n",
    "result"
   ]
  },
  {
   "cell_type": "code",
   "execution_count": 25,
   "id": "54fc6bb1-0d72-4311-bb32-4729c0061fe6",
   "metadata": {},
   "outputs": [
    {
     "data": {
      "text/plain": [
       "8-element Vector{Tuple{Int64, Float64}}:\n",
       " (1, 0.17)\n",
       " (2, 0.9)\n",
       " (3, 0.54)\n",
       " (4, 0.5)\n",
       " (5, 0.77)\n",
       " (6, 0.74)\n",
       " (7, 0.56)\n",
       " (8, 0.74)"
      ]
     },
     "execution_count": 25,
     "metadata": {},
     "output_type": "execute_result"
    }
   ],
   "source": [
    "asyncmap(dojob, 1:8)"
   ]
  },
  {
   "cell_type": "code",
   "execution_count": 24,
   "id": "0ce5c730-3fa4-4d4f-b89f-7d28ff9989a6",
   "metadata": {},
   "outputs": [
    {
     "name": "stdout",
     "output_type": "stream",
     "text": [
      "search: \u001b[0m\u001b[1ma\u001b[22m\u001b[0m\u001b[1ms\u001b[22m\u001b[0m\u001b[1my\u001b[22m\u001b[0m\u001b[1mn\u001b[22m\u001b[0m\u001b[1mc\u001b[22m\u001b[0m\u001b[1mm\u001b[22m\u001b[0m\u001b[1ma\u001b[22m\u001b[0m\u001b[1mp\u001b[22m \u001b[0m\u001b[1ma\u001b[22m\u001b[0m\u001b[1ms\u001b[22m\u001b[0m\u001b[1my\u001b[22m\u001b[0m\u001b[1mn\u001b[22m\u001b[0m\u001b[1mc\u001b[22m\u001b[0m\u001b[1mm\u001b[22m\u001b[0m\u001b[1ma\u001b[22m\u001b[0m\u001b[1mp\u001b[22m!\n",
      "\n"
     ]
    },
    {
     "data": {
      "text/latex": [
       "\\begin{verbatim}\n",
       "asyncmap(f, c...; ntasks=0, batch_size=nothing)\n",
       "\\end{verbatim}\n",
       "Uses multiple concurrent tasks to map \\texttt{f} over a collection (or multiple equal length collections). For multiple collection arguments, \\texttt{f} is applied elementwise.\n",
       "\n",
       "\\texttt{ntasks} specifies the number of tasks to run concurrently. Depending on the length of the collections, if \\texttt{ntasks} is unspecified, up to 100 tasks will be used for concurrent mapping.\n",
       "\n",
       "\\texttt{ntasks} can also be specified as a zero-arg function. In this case, the number of tasks to run in parallel is checked before processing every element and a new task started if the value of \\texttt{ntasks\\_func} is greater than the current number of tasks.\n",
       "\n",
       "If \\texttt{batch\\_size} is specified, the collection is processed in batch mode. \\texttt{f} must then be a function that must accept a \\texttt{Vector} of argument tuples and must return a vector of results. The input vector will have a length of \\texttt{batch\\_size} or less.\n",
       "\n",
       "The following examples highlight execution in different tasks by returning the \\texttt{objectid} of the tasks in which the mapping function is executed.\n",
       "\n",
       "First, with \\texttt{ntasks} undefined, each element is processed in a different task.\n",
       "\n",
       "\\begin{verbatim}\n",
       "julia> tskoid() = objectid(current_task());\n",
       "\n",
       "julia> asyncmap(x->tskoid(), 1:5)\n",
       "5-element Array{UInt64,1}:\n",
       " 0x6e15e66c75c75853\n",
       " 0x440f8819a1baa682\n",
       " 0x9fb3eeadd0c83985\n",
       " 0xebd3e35fe90d4050\n",
       " 0x29efc93edce2b961\n",
       "\n",
       "julia> length(unique(asyncmap(x->tskoid(), 1:5)))\n",
       "5\n",
       "\\end{verbatim}\n",
       "With \\texttt{ntasks=2} all elements are processed in 2 tasks.\n",
       "\n",
       "\\begin{verbatim}\n",
       "julia> asyncmap(x->tskoid(), 1:5; ntasks=2)\n",
       "5-element Array{UInt64,1}:\n",
       " 0x027ab1680df7ae94\n",
       " 0xa23d2f80cd7cf157\n",
       " 0x027ab1680df7ae94\n",
       " 0xa23d2f80cd7cf157\n",
       " 0x027ab1680df7ae94\n",
       "\n",
       "julia> length(unique(asyncmap(x->tskoid(), 1:5; ntasks=2)))\n",
       "2\n",
       "\\end{verbatim}\n",
       "With \\texttt{batch\\_size} defined, the mapping function needs to be changed to accept an array of argument tuples and return an array of results. \\texttt{map} is used in the modified mapping function to achieve this.\n",
       "\n",
       "\\begin{verbatim}\n",
       "julia> batch_func(input) = map(x->string(\"args_tuple: \", x, \", element_val: \", x[1], \", task: \", tskoid()), input)\n",
       "batch_func (generic function with 1 method)\n",
       "\n",
       "julia> asyncmap(batch_func, 1:5; ntasks=2, batch_size=2)\n",
       "5-element Array{String,1}:\n",
       " \"args_tuple: (1,), element_val: 1, task: 9118321258196414413\"\n",
       " \"args_tuple: (2,), element_val: 2, task: 4904288162898683522\"\n",
       " \"args_tuple: (3,), element_val: 3, task: 9118321258196414413\"\n",
       " \"args_tuple: (4,), element_val: 4, task: 4904288162898683522\"\n",
       " \"args_tuple: (5,), element_val: 5, task: 9118321258196414413\"\n",
       "\\end{verbatim}\n"
      ],
      "text/markdown": [
       "```\n",
       "asyncmap(f, c...; ntasks=0, batch_size=nothing)\n",
       "```\n",
       "\n",
       "Uses multiple concurrent tasks to map `f` over a collection (or multiple equal length collections). For multiple collection arguments, `f` is applied elementwise.\n",
       "\n",
       "`ntasks` specifies the number of tasks to run concurrently. Depending on the length of the collections, if `ntasks` is unspecified, up to 100 tasks will be used for concurrent mapping.\n",
       "\n",
       "`ntasks` can also be specified as a zero-arg function. In this case, the number of tasks to run in parallel is checked before processing every element and a new task started if the value of `ntasks_func` is greater than the current number of tasks.\n",
       "\n",
       "If `batch_size` is specified, the collection is processed in batch mode. `f` must then be a function that must accept a `Vector` of argument tuples and must return a vector of results. The input vector will have a length of `batch_size` or less.\n",
       "\n",
       "The following examples highlight execution in different tasks by returning the `objectid` of the tasks in which the mapping function is executed.\n",
       "\n",
       "First, with `ntasks` undefined, each element is processed in a different task.\n",
       "\n",
       "```\n",
       "julia> tskoid() = objectid(current_task());\n",
       "\n",
       "julia> asyncmap(x->tskoid(), 1:5)\n",
       "5-element Array{UInt64,1}:\n",
       " 0x6e15e66c75c75853\n",
       " 0x440f8819a1baa682\n",
       " 0x9fb3eeadd0c83985\n",
       " 0xebd3e35fe90d4050\n",
       " 0x29efc93edce2b961\n",
       "\n",
       "julia> length(unique(asyncmap(x->tskoid(), 1:5)))\n",
       "5\n",
       "```\n",
       "\n",
       "With `ntasks=2` all elements are processed in 2 tasks.\n",
       "\n",
       "```\n",
       "julia> asyncmap(x->tskoid(), 1:5; ntasks=2)\n",
       "5-element Array{UInt64,1}:\n",
       " 0x027ab1680df7ae94\n",
       " 0xa23d2f80cd7cf157\n",
       " 0x027ab1680df7ae94\n",
       " 0xa23d2f80cd7cf157\n",
       " 0x027ab1680df7ae94\n",
       "\n",
       "julia> length(unique(asyncmap(x->tskoid(), 1:5; ntasks=2)))\n",
       "2\n",
       "```\n",
       "\n",
       "With `batch_size` defined, the mapping function needs to be changed to accept an array of argument tuples and return an array of results. `map` is used in the modified mapping function to achieve this.\n",
       "\n",
       "```\n",
       "julia> batch_func(input) = map(x->string(\"args_tuple: \", x, \", element_val: \", x[1], \", task: \", tskoid()), input)\n",
       "batch_func (generic function with 1 method)\n",
       "\n",
       "julia> asyncmap(batch_func, 1:5; ntasks=2, batch_size=2)\n",
       "5-element Array{String,1}:\n",
       " \"args_tuple: (1,), element_val: 1, task: 9118321258196414413\"\n",
       " \"args_tuple: (2,), element_val: 2, task: 4904288162898683522\"\n",
       " \"args_tuple: (3,), element_val: 3, task: 9118321258196414413\"\n",
       " \"args_tuple: (4,), element_val: 4, task: 4904288162898683522\"\n",
       " \"args_tuple: (5,), element_val: 5, task: 9118321258196414413\"\n",
       "```\n"
      ],
      "text/plain": [
       "\u001b[36m  asyncmap(f, c...; ntasks=0, batch_size=nothing)\u001b[39m\n",
       "\n",
       "  Uses multiple concurrent tasks to map \u001b[36mf\u001b[39m over a collection (or multiple equal\n",
       "  length collections). For multiple collection arguments, \u001b[36mf\u001b[39m is applied\n",
       "  elementwise.\n",
       "\n",
       "  \u001b[36mntasks\u001b[39m specifies the number of tasks to run concurrently. Depending on the\n",
       "  length of the collections, if \u001b[36mntasks\u001b[39m is unspecified, up to 100 tasks will be\n",
       "  used for concurrent mapping.\n",
       "\n",
       "  \u001b[36mntasks\u001b[39m can also be specified as a zero-arg function. In this case, the\n",
       "  number of tasks to run in parallel is checked before processing every\n",
       "  element and a new task started if the value of \u001b[36mntasks_func\u001b[39m is greater than\n",
       "  the current number of tasks.\n",
       "\n",
       "  If \u001b[36mbatch_size\u001b[39m is specified, the collection is processed in batch mode. \u001b[36mf\u001b[39m\n",
       "  must then be a function that must accept a \u001b[36mVector\u001b[39m of argument tuples and\n",
       "  must return a vector of results. The input vector will have a length of\n",
       "  \u001b[36mbatch_size\u001b[39m or less.\n",
       "\n",
       "  The following examples highlight execution in different tasks by returning\n",
       "  the \u001b[36mobjectid\u001b[39m of the tasks in which the mapping function is executed.\n",
       "\n",
       "  First, with \u001b[36mntasks\u001b[39m undefined, each element is processed in a different task.\n",
       "\n",
       "\u001b[36m  julia> tskoid() = objectid(current_task());\u001b[39m\n",
       "\u001b[36m  \u001b[39m\n",
       "\u001b[36m  julia> asyncmap(x->tskoid(), 1:5)\u001b[39m\n",
       "\u001b[36m  5-element Array{UInt64,1}:\u001b[39m\n",
       "\u001b[36m   0x6e15e66c75c75853\u001b[39m\n",
       "\u001b[36m   0x440f8819a1baa682\u001b[39m\n",
       "\u001b[36m   0x9fb3eeadd0c83985\u001b[39m\n",
       "\u001b[36m   0xebd3e35fe90d4050\u001b[39m\n",
       "\u001b[36m   0x29efc93edce2b961\u001b[39m\n",
       "\u001b[36m  \u001b[39m\n",
       "\u001b[36m  julia> length(unique(asyncmap(x->tskoid(), 1:5)))\u001b[39m\n",
       "\u001b[36m  5\u001b[39m\n",
       "\n",
       "  With \u001b[36mntasks=2\u001b[39m all elements are processed in 2 tasks.\n",
       "\n",
       "\u001b[36m  julia> asyncmap(x->tskoid(), 1:5; ntasks=2)\u001b[39m\n",
       "\u001b[36m  5-element Array{UInt64,1}:\u001b[39m\n",
       "\u001b[36m   0x027ab1680df7ae94\u001b[39m\n",
       "\u001b[36m   0xa23d2f80cd7cf157\u001b[39m\n",
       "\u001b[36m   0x027ab1680df7ae94\u001b[39m\n",
       "\u001b[36m   0xa23d2f80cd7cf157\u001b[39m\n",
       "\u001b[36m   0x027ab1680df7ae94\u001b[39m\n",
       "\u001b[36m  \u001b[39m\n",
       "\u001b[36m  julia> length(unique(asyncmap(x->tskoid(), 1:5; ntasks=2)))\u001b[39m\n",
       "\u001b[36m  2\u001b[39m\n",
       "\n",
       "  With \u001b[36mbatch_size\u001b[39m defined, the mapping function needs to be changed to accept\n",
       "  an array of argument tuples and return an array of results. \u001b[36mmap\u001b[39m is used in\n",
       "  the modified mapping function to achieve this.\n",
       "\n",
       "\u001b[36m  julia> batch_func(input) = map(x->string(\"args_tuple: \", x, \", element_val: \", x[1], \", task: \", tskoid()), input)\u001b[39m\n",
       "\u001b[36m  batch_func (generic function with 1 method)\u001b[39m\n",
       "\u001b[36m  \u001b[39m\n",
       "\u001b[36m  julia> asyncmap(batch_func, 1:5; ntasks=2, batch_size=2)\u001b[39m\n",
       "\u001b[36m  5-element Array{String,1}:\u001b[39m\n",
       "\u001b[36m   \"args_tuple: (1,), element_val: 1, task: 9118321258196414413\"\u001b[39m\n",
       "\u001b[36m   \"args_tuple: (2,), element_val: 2, task: 4904288162898683522\"\u001b[39m\n",
       "\u001b[36m   \"args_tuple: (3,), element_val: 3, task: 9118321258196414413\"\u001b[39m\n",
       "\u001b[36m   \"args_tuple: (4,), element_val: 4, task: 4904288162898683522\"\u001b[39m\n",
       "\u001b[36m   \"args_tuple: (5,), element_val: 5, task: 9118321258196414413\"\u001b[39m"
      ]
     },
     "execution_count": 24,
     "metadata": {},
     "output_type": "execute_result"
    }
   ],
   "source": [
    "?asyncmap"
   ]
  },
  {
   "cell_type": "markdown",
   "id": "b57767fa",
   "metadata": {},
   "source": [
    "#### Programming a simple web server\n",
    "You should be able to connect using the address <a href=\"http://localhost:9992/3+4\" target=\"about:blank\">http://localhost:9992/3+4</a>\n",
    "\n",
    "To stop web server click <a href=\"http://localhost:9992/stopme\" target=\"about:blank\">http://localhost:9992/stopme</a>"
   ]
  },
  {
   "cell_type": "code",
   "execution_count": 26,
   "id": "c6641220",
   "metadata": {},
   "outputs": [
    {
     "name": "stdout",
     "output_type": "stream",
     "text": [
      "Starting the web server...\n"
     ]
    },
    {
     "data": {
      "text/plain": [
       "Sockets.TCPServer(Base.Libc.WindowsRawSocket(0x0000000000000458) active)"
      ]
     },
     "execution_count": 26,
     "metadata": {},
     "output_type": "execute_result"
    }
   ],
   "source": [
    "using Sockets\n",
    "println(\"Starting the web server...\")\n",
    "server = Sockets.listen(9992)"
   ]
  },
  {
   "cell_type": "code",
   "execution_count": 27,
   "id": "70a28d67",
   "metadata": {},
   "outputs": [
    {
     "data": {
      "text/plain": [
       "Task (runnable) @0x0000020459fa9180"
      ]
     },
     "execution_count": 27,
     "metadata": {},
     "output_type": "execute_result"
    },
    {
     "name": "stdout",
     "output_type": "stream",
     "text": [
      "Got request:\n",
      "GET /2+2 HTTP/1.1\n",
      "Got request:\n",
      "GET /favicon.ico HTTP/1.1\n",
      "Got request:\n",
      "GET /2*2 HTTP/1.1\n",
      "Got request:\n",
      "GET /favicon.ico HTTP/1.1\n"
     ]
    }
   ],
   "source": [
    "@async begin\n",
    "    contt = Ref(true)\n",
    "    while contt[]\n",
    "        sock = Sockets.accept(server)\n",
    "        @async begin\n",
    "            data = readline(sock)\n",
    "            print(\"Got request:\\n\", data, \"\\n\")\n",
    "            cmd = split(data, \" \")[2][2:end]\n",
    "            println(sock, \"\\nHTTP/1.1 200 OK\\nContent-Type: text/html\\n\")\n",
    "            contt[] = contt[] && (!occursin(\"stopme\", data))\n",
    "            if contt[]\n",
    "                 println(sock, string(\"<html><body>\", cmd, \"=\", \n",
    "                     eval(Meta.parse(cmd)), \"</body></html>\"))\n",
    "            else\n",
    "                println(sock,\"<html><body>stopping</body></html>\")\n",
    "            end\n",
    "            close(sock)\n",
    "        end\n",
    "    end\n",
    "    println(\"Handling requests stopped\")\n",
    "end"
   ]
  },
  {
   "cell_type": "markdown",
   "id": "e0561254",
   "metadata": {},
   "source": [
    "<a class=\"anchor\" id=\"multithreading\"></a>\n",
    "### Multithreading\n",
    "---- [Return to table of contents](#toc) ---\n"
   ]
  },
  {
   "cell_type": "code",
   "execution_count": 29,
   "id": "a2e3cdd9",
   "metadata": {},
   "outputs": [
    {
     "data": {
      "text/plain": [
       "4"
      ]
     },
     "execution_count": 29,
     "metadata": {},
     "output_type": "execute_result"
    }
   ],
   "source": [
    "Threads.nthreads()"
   ]
  },
  {
   "cell_type": "code",
   "execution_count": 30,
   "id": "61e1d1d1",
   "metadata": {},
   "outputs": [
    {
     "data": {
      "text/plain": [
       "ssum (generic function with 1 method)"
      ]
     },
     "execution_count": 30,
     "metadata": {},
     "output_type": "execute_result"
    }
   ],
   "source": [
    "function ssum(x)\n",
    "    r, c = size(x)\n",
    "    y = zeros(c)\n",
    "    for i in 1:c\n",
    "        for j in 1:r\n",
    "            @inbounds y[i] += x[j, i]\n",
    "        end\n",
    "    end\n",
    "    y\n",
    "end"
   ]
  },
  {
   "cell_type": "code",
   "execution_count": 39,
   "id": "77f3c075-7540-47d0-bb3a-c98a2d532d18",
   "metadata": {},
   "outputs": [
    {
     "data": {
      "text/plain": [
       "quote\n",
       "    \u001b[90m#= threadingconstructs.jl:180 =#\u001b[39m\n",
       "    local var\"#170#threadsfor_fun\"\n",
       "    \u001b[90m#= threadingconstructs.jl:181 =#\u001b[39m\n",
       "    let var\"#169#range\" = 1:c\n",
       "        \u001b[90m#= threadingconstructs.jl:182 =#\u001b[39m\n",
       "        function var\"#170#threadsfor_fun\"(var\"#181#tid\" = 1; onethread = false)\n",
       "            \u001b[90m#= threadingconstructs.jl:182 =#\u001b[39m\n",
       "            \u001b[90m#= threadingconstructs.jl:183 =#\u001b[39m\n",
       "            var\"#174#r\" = var\"#169#range\"\n",
       "            \u001b[90m#= threadingconstructs.jl:184 =#\u001b[39m\n",
       "            var\"#175#lenr\" = Base.Threads.length(var\"#174#r\")\n",
       "            \u001b[90m#= threadingconstructs.jl:186 =#\u001b[39m\n",
       "            if onethread\n",
       "                \u001b[90m#= threadingconstructs.jl:187 =#\u001b[39m\n",
       "                var\"#181#tid\" = 1\n",
       "                \u001b[90m#= threadingconstructs.jl:188 =#\u001b[39m\n",
       "                (var\"#176#len\", var\"#177#rem\") = (var\"#175#lenr\", 0)\n",
       "            else\n",
       "                \u001b[90m#= threadingconstructs.jl:190 =#\u001b[39m\n",
       "                (var\"#176#len\", var\"#177#rem\") = Base.Threads.divrem(var\"#175#lenr\", Base.Threads.threadpoolsize())\n",
       "            end\n",
       "            \u001b[90m#= threadingconstructs.jl:193 =#\u001b[39m\n",
       "            if var\"#176#len\" == 0\n",
       "                \u001b[90m#= threadingconstructs.jl:194 =#\u001b[39m\n",
       "                if var\"#181#tid\" > var\"#177#rem\"\n",
       "                    \u001b[90m#= threadingconstructs.jl:195 =#\u001b[39m\n",
       "                    return\n",
       "                end\n",
       "                \u001b[90m#= threadingconstructs.jl:197 =#\u001b[39m\n",
       "                (var\"#176#len\", var\"#177#rem\") = (1, 0)\n",
       "            end\n",
       "            \u001b[90m#= threadingconstructs.jl:200 =#\u001b[39m\n",
       "            var\"#178#f\" = Base.Threads.firstindex(var\"#174#r\") + (var\"#181#tid\" - 1) * var\"#176#len\"\n",
       "            \u001b[90m#= threadingconstructs.jl:201 =#\u001b[39m\n",
       "            var\"#179#l\" = (var\"#178#f\" + var\"#176#len\") - 1\n",
       "            \u001b[90m#= threadingconstructs.jl:203 =#\u001b[39m\n",
       "            if var\"#177#rem\" > 0\n",
       "                \u001b[90m#= threadingconstructs.jl:204 =#\u001b[39m\n",
       "                if var\"#181#tid\" <= var\"#177#rem\"\n",
       "                    \u001b[90m#= threadingconstructs.jl:205 =#\u001b[39m\n",
       "                    var\"#178#f\" = var\"#178#f\" + (var\"#181#tid\" - 1)\n",
       "                    \u001b[90m#= threadingconstructs.jl:206 =#\u001b[39m\n",
       "                    var\"#179#l\" = var\"#179#l\" + var\"#181#tid\"\n",
       "                else\n",
       "                    \u001b[90m#= threadingconstructs.jl:208 =#\u001b[39m\n",
       "                    var\"#178#f\" = var\"#178#f\" + var\"#177#rem\"\n",
       "                    \u001b[90m#= threadingconstructs.jl:209 =#\u001b[39m\n",
       "                    var\"#179#l\" = var\"#179#l\" + var\"#177#rem\"\n",
       "                end\n",
       "            end\n",
       "            \u001b[90m#= threadingconstructs.jl:213 =#\u001b[39m\n",
       "            for var\"#180#i\" = var\"#178#f\":var\"#179#l\"\n",
       "                \u001b[90m#= threadingconstructs.jl:214 =#\u001b[39m\n",
       "                local i = begin\n",
       "                            $(Expr(:inbounds, true))\n",
       "                            local var\"#182#val\" = var\"#174#r\"[var\"#180#i\"]\n",
       "                            $(Expr(:inbounds, :pop))\n",
       "                            var\"#182#val\"\n",
       "                        end\n",
       "                \u001b[90m#= threadingconstructs.jl:215 =#\u001b[39m\n",
       "                begin\n",
       "                    \u001b[90m#= In[39]:2 =#\u001b[39m\n",
       "                    for j = 1:r\n",
       "                        \u001b[90m#= In[39]:3 =#\u001b[39m\n",
       "                        begin\n",
       "                            $(Expr(:inbounds, true))\n",
       "                            local var\"#183#val\" = (y[i] += x[j, i])\n",
       "                            $(Expr(:inbounds, :pop))\n",
       "                            var\"#183#val\"\n",
       "                        end\n",
       "                        \u001b[90m#= In[39]:4 =#\u001b[39m\n",
       "                    end\n",
       "                    \u001b[90m#= In[39]:5 =#\u001b[39m\n",
       "                end\n",
       "                \u001b[90m#= threadingconstructs.jl:216 =#\u001b[39m\n",
       "            end\n",
       "        end\n",
       "    end\n",
       "    \u001b[90m#= threadingconstructs.jl:219 =#\u001b[39m\n",
       "    if true\n",
       "        \u001b[90m#= threadingconstructs.jl:220 =#\u001b[39m\n",
       "        Base.Threads.threading_run(var\"#170#threadsfor_fun\", false)\n",
       "    elseif \u001b[90m#= threadingconstructs.jl:221 =#\u001b[39m ccall(:jl_in_threaded_region, Base.Threads.Cint, ()) != 0\n",
       "        \u001b[90m#= threadingconstructs.jl:222 =#\u001b[39m\n",
       "        Base.Threads.error(\"`@threads :static` cannot be used concurrently or nested\")\n",
       "    else\n",
       "        \u001b[90m#= threadingconstructs.jl:224 =#\u001b[39m\n",
       "        Base.Threads.threading_run(var\"#170#threadsfor_fun\", true)\n",
       "    end\n",
       "    \u001b[90m#= threadingconstructs.jl:226 =#\u001b[39m\n",
       "    Base.Threads.nothing\n",
       "end"
      ]
     },
     "execution_count": 39,
     "metadata": {},
     "output_type": "execute_result"
    }
   ],
   "source": [
    "@macroexpand Threads.@threads for i in 1:c\n",
    "        for j in 1:r\n",
    "            @inbounds y[i] += x[j, i]\n",
    "        end\n",
    "    end"
   ]
  },
  {
   "cell_type": "code",
   "execution_count": 31,
   "id": "e2a4a2e8",
   "metadata": {},
   "outputs": [
    {
     "data": {
      "text/plain": [
       "tsum (generic function with 1 method)"
      ]
     },
     "execution_count": 31,
     "metadata": {},
     "output_type": "execute_result"
    }
   ],
   "source": [
    "function tsum(x)\n",
    "    r, c = size(x)\n",
    "    y = zeros(c)\n",
    "    Threads.@threads for i in 1:c\n",
    "        for j in 1:r\n",
    "            @inbounds y[i] += x[j, i]\n",
    "        end\n",
    "    end\n",
    "    y\n",
    "end\n"
   ]
  },
  {
   "cell_type": "code",
   "execution_count": 32,
   "id": "2e4ebef5",
   "metadata": {},
   "outputs": [],
   "source": [
    "x = rand(1000,10000);"
   ]
  },
  {
   "cell_type": "code",
   "execution_count": 37,
   "id": "55526866",
   "metadata": {},
   "outputs": [
    {
     "name": "stdout",
     "output_type": "stream",
     "text": [
      "  0.028556 seconds (2 allocations: 78.172 KiB)\n",
      "  0.019815 seconds (2 allocations: 78.172 KiB)\n"
     ]
    }
   ],
   "source": [
    "@time ssum(x)\n",
    "@time ssum(x);"
   ]
  },
  {
   "cell_type": "code",
   "execution_count": 38,
   "id": "eed39ed8",
   "metadata": {},
   "outputs": [
    {
     "name": "stdout",
     "output_type": "stream",
     "text": [
      "  0.005878 seconds (25 allocations: 80.781 KiB)\n",
      "  0.004839 seconds (25 allocations: 80.930 KiB)\n"
     ]
    }
   ],
   "source": [
    "@time tsum(x)\n",
    "@time tsum(x);"
   ]
  },
  {
   "cell_type": "markdown",
   "id": "52d9f2a7",
   "metadata": {},
   "source": [
    "#### Locking mechanism for threads"
   ]
  },
  {
   "cell_type": "code",
   "execution_count": 40,
   "id": "5894cc29",
   "metadata": {},
   "outputs": [
    {
     "data": {
      "text/plain": [
       "f_bad (generic function with 1 method)"
      ]
     },
     "execution_count": 40,
     "metadata": {},
     "output_type": "execute_result"
    }
   ],
   "source": [
    "function f_bad()\n",
    "    x = 0\n",
    "    Threads.@threads for i in 1:10^6\n",
    "        x += 1\n",
    "    end\n",
    "    return x\n",
    "end\n"
   ]
  },
  {
   "cell_type": "code",
   "execution_count": 83,
   "id": "a5ed2555",
   "metadata": {},
   "outputs": [
    {
     "data": {
      "text/plain": [
       "308113"
      ]
     },
     "execution_count": 83,
     "metadata": {},
     "output_type": "execute_result"
    }
   ],
   "source": [
    "f_bad()"
   ]
  },
  {
   "cell_type": "code",
   "execution_count": 85,
   "id": "de164cd7",
   "metadata": {},
   "outputs": [
    {
     "name": "stdout",
     "output_type": "stream",
     "text": [
      "  2.200 ns (0 allocations: 0 bytes)\n"
     ]
    },
    {
     "data": {
      "text/plain": [
       "1000000"
      ]
     },
     "execution_count": 85,
     "metadata": {},
     "output_type": "execute_result"
    }
   ],
   "source": [
    "function f_add()\n",
    "    x = 0 \n",
    "    for i in 1:10^6\n",
    "        x += 1\n",
    "    end\n",
    "    x\n",
    "end\n",
    "@btime f_add()\n",
    "    "
   ]
  },
  {
   "cell_type": "code",
   "execution_count": 87,
   "id": "052191c4-aaa9-49e5-97e6-08ec7ecd0c9e",
   "metadata": {},
   "outputs": [
    {
     "name": "stdout",
     "output_type": "stream",
     "text": [
      "\t\u001b[0m.text\n",
      "\t\u001b[0m.file\t\u001b[0m\"f_add\"\n",
      "\t\u001b[0m.globl\t\u001b[0mjulia_f_add_2804                \u001b[90m# -- Begin function julia_f_add_2804\u001b[39m\n",
      "\t\u001b[0m.p2align\t\u001b[33m4\u001b[39m\u001b[0m, \u001b[33m0x90\u001b[39m\n",
      "\t\u001b[0m.type\t\u001b[0mjulia_f_add_2804\u001b[0m,\u001b[0m@function\n",
      "\u001b[91mjulia_f_add_2804:\u001b[39m                       \u001b[90m# @julia_f_add_2804\u001b[39m\n",
      "\u001b[90m; ┌ @ In[85]:1 within `f_add`\u001b[39m\n",
      "\t\u001b[0m.cfi_startproc\n",
      "\u001b[90m# %bb.0:                                # %top\u001b[39m\n",
      "\t\u001b[96m\u001b[1mpush\u001b[22m\u001b[39m\t\u001b[0mrbp\n",
      "\t\u001b[0m.cfi_def_cfa_offset \u001b[33m16\u001b[39m\n",
      "\t\u001b[0m.cfi_offset \u001b[0mrbp\u001b[0m, \u001b[33m-16\u001b[39m\n",
      "\t\u001b[96m\u001b[1mmov\u001b[22m\u001b[39m\t\u001b[0mrbp\u001b[0m, \u001b[0mrsp\n",
      "\t\u001b[0m.cfi_def_cfa_register \u001b[0mrbp\n",
      "\u001b[90m; │ @ In[85]:6 within `f_add`\u001b[39m\n",
      "\t\u001b[96m\u001b[1mmov\u001b[22m\u001b[39m\t\u001b[0meax\u001b[0m, \u001b[33m1000000\u001b[39m\n",
      "\t\u001b[96m\u001b[1mpop\u001b[22m\u001b[39m\t\u001b[0mrbp\n",
      "\t\u001b[96m\u001b[1mret\u001b[22m\u001b[39m\n",
      "\u001b[91m.Lfunc_end0:\u001b[39m\n",
      "\t\u001b[0m.size\t\u001b[0mjulia_f_add_2804\u001b[0m, \u001b[0m.Lfunc_end0-julia_f_add_2804\n",
      "\t\u001b[0m.cfi_endproc\n",
      "\u001b[90m; └\u001b[39m\n",
      "                                        \u001b[90m# -- End function\u001b[39m\n",
      "\t\u001b[0m.section\t\u001b[0m\".note.GNU-stack\"\u001b[0m,\u001b[0m\"\"\u001b[0m,\u001b[0m@progbits\n"
     ]
    }
   ],
   "source": [
    "@code_native f_add()"
   ]
  },
  {
   "cell_type": "code",
   "execution_count": 88,
   "id": "eeb97516",
   "metadata": {
    "scrolled": true
   },
   "outputs": [
    {
     "data": {
      "text/plain": [
       "1000000"
      ]
     },
     "execution_count": 88,
     "metadata": {},
     "output_type": "execute_result"
    }
   ],
   "source": [
    "function f_atomic()\n",
    "    x = Threads.Atomic{Int}(0)\n",
    "    Threads.@threads for i in 1:10^6\n",
    "        Threads.atomic_add!(x, 1)\n",
    "    end\n",
    "    return x[]\n",
    "end\n",
    "f_atomic()"
   ]
  },
  {
   "cell_type": "code",
   "execution_count": null,
   "id": "67da99c3-5032-45e3-83a1-6c14e654115a",
   "metadata": {},
   "outputs": [],
   "source": [
    "u"
   ]
  },
  {
   "cell_type": "code",
   "execution_count": 92,
   "id": "59801888-ffc4-406b-ad5e-4622372683cc",
   "metadata": {},
   "outputs": [
    {
     "data": {
      "text/plain": [
       "f_easy (generic function with 1 method)"
      ]
     },
     "execution_count": 92,
     "metadata": {},
     "output_type": "execute_result"
    }
   ],
   "source": [
    "function f_easy()\n",
    "    result = zeros(Int, Threads.nthreads())\n",
    "    Threads.@threads for i in 1:10^6\n",
    "        result[Threads.threadid()] += 1\n",
    "    end\n",
    "    return sum(result)\n",
    "end"
   ]
  },
  {
   "cell_type": "code",
   "execution_count": 89,
   "id": "d5359fcc",
   "metadata": {},
   "outputs": [
    {
     "data": {
      "text/plain": [
       "f_reentrant (generic function with 1 method)"
      ]
     },
     "execution_count": 89,
     "metadata": {},
     "output_type": "execute_result"
    }
   ],
   "source": [
    "function f_spin()\n",
    "    l = Threads.SpinLock()\n",
    "    x = 0\n",
    "    Threads.@threads for i in 1:10^6\n",
    "        Threads.lock(l) do\n",
    "            x += 1\n",
    "        end\n",
    "    end\n",
    "    return x\n",
    "end\n",
    "\n",
    "function f_reentrant()\n",
    "    l = ReentrantLock()\n",
    "    x = 0\n",
    "    Threads.@threads for i in 1:10^6\n",
    "        Threads.lock(l) do\n",
    "            x += 1\n",
    "        end\n",
    "    end\n",
    "    return x\n",
    "end\n"
   ]
  },
  {
   "cell_type": "code",
   "execution_count": 93,
   "id": "6c969c44",
   "metadata": {},
   "outputs": [
    {
     "name": "stdout",
     "output_type": "stream",
     "text": [
      "\u001b[1m8×4 DataFrame\u001b[0m\n",
      "\u001b[1m Row \u001b[0m│\u001b[1m f           \u001b[0m\u001b[1m i     \u001b[0m\u001b[1m value   \u001b[0m\u001b[1m timems   \u001b[0m\n",
      "     │\u001b[90m String      \u001b[0m\u001b[90m Int64 \u001b[0m\u001b[90m Int64   \u001b[0m\u001b[90m Float64  \u001b[0m\n",
      "─────┼───────────────────────────────────────\n",
      "   1 │ f_bad            1   250000   53.5209\n",
      "   2 │ f_bad            2   502149   54.0777\n",
      "   3 │ f_atomic         1  1000000   24.1497\n",
      "   4 │ f_atomic         2  1000000   24.647\n",
      "   5 │ f_spin           1  1000000  752.861\n",
      "   6 │ f_spin           2  1000000  473.942\n",
      "   7 │ f_reentrant      1  1000000  853.451\n",
      "   8 │ f_reentrant      2  1000000  730.869\n"
     ]
    }
   ],
   "source": [
    "using DataFrames\n",
    "stats = DataFrame()\n",
    "for f in [f_bad, f_atomic, f_spin, f_reentrant]\n",
    "    for i = 1:2\n",
    "        value, elapsedtime  = @timed f()\n",
    "        push!(stats, (f=string(f),i=i, value=value, timems=elapsedtime*1000))\n",
    "    end\n",
    "end\n",
    "println(stats)\n"
   ]
  },
  {
   "cell_type": "markdown",
   "id": "2846c599",
   "metadata": {},
   "source": [
    "<a class=\"anchor\" id=\"multiprocessing\"></a>\n",
    "### Multi-processing and distributed computing\n",
    "---- [Return to table of contents](#toc) ---\n"
   ]
  },
  {
   "cell_type": "code",
   "execution_count": 94,
   "id": "b9e7cf7d",
   "metadata": {},
   "outputs": [],
   "source": [
    "using Distributed"
   ]
  },
  {
   "cell_type": "markdown",
   "id": "caf3b10c",
   "metadata": {},
   "source": [
    "This code adds 4 workers (and avoids adding more)"
   ]
  },
  {
   "cell_type": "code",
   "execution_count": 95,
   "id": "e0626f59",
   "metadata": {},
   "outputs": [],
   "source": [
    "addprocs(max(0, 5-nprocs()));"
   ]
  },
  {
   "cell_type": "code",
   "execution_count": 96,
   "id": "99b678b4",
   "metadata": {
    "scrolled": true
   },
   "outputs": [
    {
     "data": {
      "text/plain": [
       "4-element Vector{Int64}:\n",
       " 2\n",
       " 3\n",
       " 4\n",
       " 5"
      ]
     },
     "execution_count": 96,
     "metadata": {},
     "output_type": "execute_result"
    }
   ],
   "source": [
    "workers()"
   ]
  },
  {
   "cell_type": "code",
   "execution_count": 97,
   "id": "f0ffdc87",
   "metadata": {},
   "outputs": [
    {
     "name": "stdout",
     "output_type": "stream",
     "text": [
      "  1.113896 seconds (20.00 k allocations: 763.397 MiB, 19.71% gc time)\n",
      "  1.093252 seconds (20.00 k allocations: 763.397 MiB, 13.90% gc time)\n"
     ]
    },
    {
     "data": {
      "text/plain": [
       "4999.6947155994"
      ]
     },
     "execution_count": 97,
     "metadata": {},
     "output_type": "execute_result"
    }
   ],
   "source": [
    "function s_rand()\n",
    "    n = 10^4\n",
    "    x = 0.0\n",
    "    for i in 1:n\n",
    "        x += sum(rand(10^4))\n",
    "    end\n",
    "    x / n\n",
    "end\n",
    " \n",
    "@time s_rand()\n",
    "@time s_rand()\n"
   ]
  },
  {
   "cell_type": "code",
   "execution_count": 98,
   "id": "84ede908",
   "metadata": {},
   "outputs": [
    {
     "name": "stdout",
     "output_type": "stream",
     "text": [
      "  6.293818 seconds (465.16 k allocations: 31.234 MiB, 20.16% compilation time)\n",
      "  0.655145 seconds (437 allocations: 24.734 KiB)\n"
     ]
    },
    {
     "data": {
      "text/plain": [
       "5000.301076551798"
      ]
     },
     "execution_count": 98,
     "metadata": {},
     "output_type": "execute_result"
    }
   ],
   "source": [
    "using Distributed\n",
    " \n",
    "function p_rand()\n",
    "    n = 10^4\n",
    "    x = @distributed (+) for i in 1:n\n",
    "        # the last line will be aggregated\n",
    "        sum(rand(10^4))\n",
    "    end\n",
    "    x / n\n",
    "end\n",
    "\n",
    "@time p_rand()\n",
    "@time p_rand()\n"
   ]
  },
  {
   "cell_type": "code",
   "execution_count": 63,
   "id": "5fa09611",
   "metadata": {},
   "outputs": [
    {
     "data": {
      "text/plain": [
       "1×4 adjoint(::Vector{Int64}) with eltype Int64:\n",
       " 2  3  4  5"
      ]
     },
     "execution_count": 63,
     "metadata": {},
     "output_type": "execute_result"
    }
   ],
   "source": [
    "workers()'"
   ]
  },
  {
   "cell_type": "code",
   "execution_count": 64,
   "id": "123009f7",
   "metadata": {},
   "outputs": [
    {
     "data": {
      "text/plain": [
       "7"
      ]
     },
     "execution_count": 64,
     "metadata": {},
     "output_type": "execute_result"
    }
   ],
   "source": [
    "fetch(@spawnat 3 4+3)"
   ]
  },
  {
   "cell_type": "code",
   "execution_count": 65,
   "id": "bf74de87",
   "metadata": {
    "scrolled": true
   },
   "outputs": [
    {
     "name": "stdout",
     "output_type": "stream",
     "text": [
      "I am on worker 1\n"
     ]
    },
    {
     "data": {
      "text/plain": [
       "0.21248315596630618"
      ]
     },
     "execution_count": 65,
     "metadata": {},
     "output_type": "execute_result"
    }
   ],
   "source": [
    "function myf() \n",
    "    println(\"I am on worker \", myid())\n",
    "    rand()\n",
    "end\n",
    "myf()"
   ]
  },
  {
   "cell_type": "code",
   "execution_count": 66,
   "id": "e4599a69",
   "metadata": {
    "scrolled": true
   },
   "outputs": [
    {
     "name": "stdout",
     "output_type": "stream",
     "text": [
      "RemoteException(4, CapturedException(UndefVarError(Symbol(\"#myf\")), Any[(deserialize_datatype at Serialization.jl:1399, 1), (handle_deserialize at Serialization.jl:867, 1), (deserialize at Serialization.jl:814, 1), (handle_deserialize at Serialization.jl:874, 1), (deserialize at Serialization.jl:814 [inlined], 1), (deserialize_global_from_main at clusterserialize.jl:160, 1), (#5 at clusterserialize.jl:72 [inlined], 1), (foreach at abstractarray.jl:3086, 1), (deserialize at clusterserialize.jl:72, 1), (handle_deserialize at Serialization.jl:960, 1), (deserialize at Serialization.jl:814, 1), (handle_deserialize at Serialization.jl:871, 1), (deserialize at Serialization.jl:814, 1), (handle_deserialize at Serialization.jl:874, 1), (deserialize at Serialization.jl:814 [inlined], 1), (deserialize_msg at messages.jl:87, 1), (#invokelatest#2 at essentials.jl:887 [inlined], 1), (invokelatest at essentials.jl:884 [inlined], 1), (message_handler_loop at process_messages.jl:176, 1), (process_tcp_streams at process_messages.jl:133, 1), (#103 at process_messages.jl:121, 1)]))\n"
     ]
    }
   ],
   "source": [
    "a = nothing\n",
    "try \n",
    "    fetch(@spawnat 4 myf())\n",
    "catch e\n",
    "    println(e)\n",
    "end"
   ]
  },
  {
   "cell_type": "code",
   "execution_count": 67,
   "id": "b7658d33",
   "metadata": {},
   "outputs": [
    {
     "name": "stdout",
     "output_type": "stream",
     "text": [
      "      From worker 4:\tI am on worker 4\n"
     ]
    },
    {
     "data": {
      "text/plain": [
       "0.7642915859931477"
      ]
     },
     "execution_count": 67,
     "metadata": {},
     "output_type": "execute_result"
    }
   ],
   "source": [
    "@everywhere function myf() \n",
    "    println(\"I am on worker \", myid())\n",
    "    rand()\n",
    "end\n",
    "fetch(@spawnat 4 myf())"
   ]
  },
  {
   "cell_type": "markdown",
   "id": "5d208b0e",
   "metadata": {},
   "source": [
    "#### A typical pattern for setting an intial state across workers"
   ]
  },
  {
   "cell_type": "code",
   "execution_count": 100,
   "id": "f281840e",
   "metadata": {},
   "outputs": [
    {
     "name": "stdout",
     "output_type": "stream",
     "text": [
      "      From worker 3:\t\u001b[32m\u001b[1m  Activating\u001b[22m\u001b[39m project at `C:\\AAABIBLIOTEKA\\EuropeanCommission\\2024_Julia_EC_EconomicDep`\n",
      "      From worker 2:\t\u001b[32m\u001b[1m  Activating\u001b[22m\u001b[39m project at `C:\\AAABIBLIOTEKA\\EuropeanCommission\\2024_Julia_EC_EconomicDep`"
     ]
    },
    {
     "name": "stderr",
     "output_type": "stream",
     "text": [
      "\u001b[32m\u001b[1m  Activating\u001b[22m\u001b[39m project at `C:\\AAABIBLIOTEKA\\EuropeanCommission\\2024_Julia_EC_EconomicDep`\n"
     ]
    },
    {
     "name": "stdout",
     "output_type": "stream",
     "text": [
      "\n",
      "      From worker 5:\t\u001b[32m\u001b[1m  Activating\u001b[22m\u001b[39m project at `C:\\AAABIBLIOTEKA\\EuropeanCommission\\2024_Julia_EC_EconomicDep`\n",
      "      From worker 4:\t\u001b[32m\u001b[1m  Activating\u001b[22m\u001b[39m project at `C:\\AAABIBLIOTEKA\\EuropeanCommission\\2024_Julia_EC_EconomicDep`\n"
     ]
    }
   ],
   "source": [
    "using Distributed\n",
    "@everywhere using Pkg\n",
    "@everywhere Pkg.activate(\"../.\")\n",
    "@everywhere using Distributed, Random, DataFrames\n",
    "\n",
    "@everywhere function calc(x, y)\n",
    "    2x + y\n",
    "end\n",
    "\n",
    "@everywhere function init_worker()    \n",
    "   Random.seed!(myid())\n",
    "    # reading initial data from files or other actions\n",
    "end\n",
    "\n",
    "@sync for wid in workers()\n",
    "    @async fetch(@spawnat wid init_worker())\n",
    "end\n"
   ]
  },
  {
   "cell_type": "markdown",
   "id": "10189162",
   "metadata": {},
   "source": [
    "Typically results are collected to a `DataFrame`"
   ]
  },
  {
   "cell_type": "code",
   "execution_count": 101,
   "id": "c636c081",
   "metadata": {},
   "outputs": [
    {
     "data": {
      "text/html": [
       "<div><div style = \"float: left;\"><span>12×6 DataFrame</span></div><div style = \"clear: both;\"></div></div><div class = \"data-frame\" style = \"overflow-x: scroll;\"><table class = \"data-frame\" style = \"margin-bottom: 6px;\"><thead><tr class = \"header\"><th class = \"rowNumber\" style = \"font-weight: bold; text-align: right;\">Row</th><th style = \"text-align: left;\">i</th><th style = \"text-align: left;\">j</th><th style = \"text-align: left;\">a</th><th style = \"text-align: left;\">b</th><th style = \"text-align: left;\">c</th><th style = \"text-align: left;\">procid</th></tr><tr class = \"subheader headerLastRow\"><th class = \"rowNumber\" style = \"font-weight: bold; text-align: right;\"></th><th title = \"Int64\" style = \"text-align: left;\">Int64</th><th title = \"Int64\" style = \"text-align: left;\">Int64</th><th title = \"Int64\" style = \"text-align: left;\">Int64</th><th title = \"Int64\" style = \"text-align: left;\">Int64</th><th title = \"Int64\" style = \"text-align: left;\">Int64</th><th title = \"Int64\" style = \"text-align: left;\">Int64</th></tr></thead><tbody><tr><td class = \"rowNumber\" style = \"font-weight: bold; text-align: right;\">1</td><td style = \"text-align: right;\">1</td><td style = \"text-align: right;\">1</td><td style = \"text-align: right;\">20</td><td style = \"text-align: right;\">9000</td><td style = \"text-align: right;\">9040</td><td style = \"text-align: right;\">2</td></tr><tr><td class = \"rowNumber\" style = \"font-weight: bold; text-align: right;\">2</td><td style = \"text-align: right;\">2</td><td style = \"text-align: right;\">1</td><td style = \"text-align: right;\">366</td><td style = \"text-align: right;\">1000</td><td style = \"text-align: right;\">1732</td><td style = \"text-align: right;\">2</td></tr><tr><td class = \"rowNumber\" style = \"font-weight: bold; text-align: right;\">3</td><td style = \"text-align: right;\">3</td><td style = \"text-align: right;\">1</td><td style = \"text-align: right;\">182</td><td style = \"text-align: right;\">1000</td><td style = \"text-align: right;\">1364</td><td style = \"text-align: right;\">2</td></tr><tr><td class = \"rowNumber\" style = \"font-weight: bold; text-align: right;\">4</td><td style = \"text-align: right;\">4</td><td style = \"text-align: right;\">1</td><td style = \"text-align: right;\">185</td><td style = \"text-align: right;\">2000</td><td style = \"text-align: right;\">2370</td><td style = \"text-align: right;\">3</td></tr><tr><td class = \"rowNumber\" style = \"font-weight: bold; text-align: right;\">5</td><td style = \"text-align: right;\">1</td><td style = \"text-align: right;\">2</td><td style = \"text-align: right;\">154</td><td style = \"text-align: right;\">7000</td><td style = \"text-align: right;\">7308</td><td style = \"text-align: right;\">3</td></tr><tr><td class = \"rowNumber\" style = \"font-weight: bold; text-align: right;\">6</td><td style = \"text-align: right;\">2</td><td style = \"text-align: right;\">2</td><td style = \"text-align: right;\">346</td><td style = \"text-align: right;\">8000</td><td style = \"text-align: right;\">8692</td><td style = \"text-align: right;\">3</td></tr><tr><td class = \"rowNumber\" style = \"font-weight: bold; text-align: right;\">7</td><td style = \"text-align: right;\">3</td><td style = \"text-align: right;\">2</td><td style = \"text-align: right;\">454</td><td style = \"text-align: right;\">3000</td><td style = \"text-align: right;\">3908</td><td style = \"text-align: right;\">4</td></tr><tr><td class = \"rowNumber\" style = \"font-weight: bold; text-align: right;\">8</td><td style = \"text-align: right;\">4</td><td style = \"text-align: right;\">2</td><td style = \"text-align: right;\">416</td><td style = \"text-align: right;\">2000</td><td style = \"text-align: right;\">2832</td><td style = \"text-align: right;\">4</td></tr><tr><td class = \"rowNumber\" style = \"font-weight: bold; text-align: right;\">9</td><td style = \"text-align: right;\">1</td><td style = \"text-align: right;\">3</td><td style = \"text-align: right;\">265</td><td style = \"text-align: right;\">3000</td><td style = \"text-align: right;\">3530</td><td style = \"text-align: right;\">4</td></tr><tr><td class = \"rowNumber\" style = \"font-weight: bold; text-align: right;\">10</td><td style = \"text-align: right;\">2</td><td style = \"text-align: right;\">3</td><td style = \"text-align: right;\">417</td><td style = \"text-align: right;\">4000</td><td style = \"text-align: right;\">4834</td><td style = \"text-align: right;\">5</td></tr><tr><td class = \"rowNumber\" style = \"font-weight: bold; text-align: right;\">11</td><td style = \"text-align: right;\">3</td><td style = \"text-align: right;\">3</td><td style = \"text-align: right;\">232</td><td style = \"text-align: right;\">6000</td><td style = \"text-align: right;\">6464</td><td style = \"text-align: right;\">5</td></tr><tr><td class = \"rowNumber\" style = \"font-weight: bold; text-align: right;\">12</td><td style = \"text-align: right;\">4</td><td style = \"text-align: right;\">3</td><td style = \"text-align: right;\">169</td><td style = \"text-align: right;\">6000</td><td style = \"text-align: right;\">6338</td><td style = \"text-align: right;\">5</td></tr></tbody></table></div>"
      ],
      "text/latex": [
       "\\begin{tabular}{r|cccccc}\n",
       "\t& i & j & a & b & c & procid\\\\\n",
       "\t\\hline\n",
       "\t& Int64 & Int64 & Int64 & Int64 & Int64 & Int64\\\\\n",
       "\t\\hline\n",
       "\t1 & 1 & 1 & 20 & 9000 & 9040 & 2 \\\\\n",
       "\t2 & 2 & 1 & 366 & 1000 & 1732 & 2 \\\\\n",
       "\t3 & 3 & 1 & 182 & 1000 & 1364 & 2 \\\\\n",
       "\t4 & 4 & 1 & 185 & 2000 & 2370 & 3 \\\\\n",
       "\t5 & 1 & 2 & 154 & 7000 & 7308 & 3 \\\\\n",
       "\t6 & 2 & 2 & 346 & 8000 & 8692 & 3 \\\\\n",
       "\t7 & 3 & 2 & 454 & 3000 & 3908 & 4 \\\\\n",
       "\t8 & 4 & 2 & 416 & 2000 & 2832 & 4 \\\\\n",
       "\t9 & 1 & 3 & 265 & 3000 & 3530 & 4 \\\\\n",
       "\t10 & 2 & 3 & 417 & 4000 & 4834 & 5 \\\\\n",
       "\t11 & 3 & 3 & 232 & 6000 & 6464 & 5 \\\\\n",
       "\t12 & 4 & 3 & 169 & 6000 & 6338 & 5 \\\\\n",
       "\\end{tabular}\n"
      ],
      "text/plain": [
       "\u001b[1m12×6 DataFrame\u001b[0m\n",
       "\u001b[1m Row \u001b[0m│\u001b[1m i     \u001b[0m\u001b[1m j     \u001b[0m\u001b[1m a     \u001b[0m\u001b[1m b     \u001b[0m\u001b[1m c     \u001b[0m\u001b[1m procid \u001b[0m\n",
       "     │\u001b[90m Int64 \u001b[0m\u001b[90m Int64 \u001b[0m\u001b[90m Int64 \u001b[0m\u001b[90m Int64 \u001b[0m\u001b[90m Int64 \u001b[0m\u001b[90m Int64  \u001b[0m\n",
       "─────┼───────────────────────────────────────────\n",
       "   1 │     1      1     20   9000   9040       2\n",
       "   2 │     2      1    366   1000   1732       2\n",
       "   3 │     3      1    182   1000   1364       2\n",
       "   4 │     4      1    185   2000   2370       3\n",
       "   5 │     1      2    154   7000   7308       3\n",
       "   6 │     2      2    346   8000   8692       3\n",
       "   7 │     3      2    454   3000   3908       4\n",
       "   8 │     4      2    416   2000   2832       4\n",
       "   9 │     1      3    265   3000   3530       4\n",
       "  10 │     2      3    417   4000   4834       5\n",
       "  11 │     3      3    232   6000   6464       5\n",
       "  12 │     4      3    169   6000   6338       5"
      ]
     },
     "execution_count": 101,
     "metadata": {},
     "output_type": "execute_result"
    }
   ],
   "source": [
    "data = @distributed (append!) for (i, j) = vec(collect(Iterators.product(1:4, 1:3)))\n",
    "    a = rand(1:499)\n",
    "    b = rand(1:9)*1000\n",
    "    c = calc(a, b)\n",
    "    DataFrame(;i,j,a,b,c,procid = myid())\n",
    "end"
   ]
  },
  {
   "cell_type": "code",
   "execution_count": 107,
   "id": "f6f2b5f7-6521-47e5-8ed7-1f0226d0c583",
   "metadata": {},
   "outputs": [
    {
     "data": {
      "text/html": [
       "<div><div style = \"float: left;\"><span>21×1 DataFrame</span></div><div style = \"clear: both;\"></div></div><div class = \"data-frame\" style = \"overflow-x: scroll;\"><table class = \"data-frame\" style = \"margin-bottom: 6px;\"><thead><tr class = \"header\"><th class = \"rowNumber\" style = \"font-weight: bold; text-align: right;\">Row</th><th style = \"text-align: left;\">red</th></tr><tr class = \"subheader headerLastRow\"><th class = \"rowNumber\" style = \"font-weight: bold; text-align: right;\"></th><th title = \"Int64\" style = \"text-align: left;\">Int64</th></tr></thead><tbody><tr><td class = \"rowNumber\" style = \"font-weight: bold; text-align: right;\">1</td><td style = \"text-align: right;\">40000</td></tr><tr><td class = \"rowNumber\" style = \"font-weight: bold; text-align: right;\">2</td><td style = \"text-align: right;\">30003</td></tr><tr><td class = \"rowNumber\" style = \"font-weight: bold; text-align: right;\">3</td><td style = \"text-align: right;\">50010</td></tr><tr><td class = \"rowNumber\" style = \"font-weight: bold; text-align: right;\">4</td><td style = \"text-align: right;\">20006</td></tr><tr><td class = \"rowNumber\" style = \"font-weight: bold; text-align: right;\">5</td><td style = \"text-align: right;\">40016</td></tr><tr><td class = \"rowNumber\" style = \"font-weight: bold; text-align: right;\">6</td><td style = \"text-align: right;\">30015</td></tr><tr><td class = \"rowNumber\" style = \"font-weight: bold; text-align: right;\">7</td><td style = \"text-align: right;\">50030</td></tr><tr><td class = \"rowNumber\" style = \"font-weight: bold; text-align: right;\">8</td><td style = \"text-align: right;\">20014</td></tr><tr><td class = \"rowNumber\" style = \"font-weight: bold; text-align: right;\">9</td><td style = \"text-align: right;\">40032</td></tr><tr><td class = \"rowNumber\" style = \"font-weight: bold; text-align: right;\">10</td><td style = \"text-align: right;\">30027</td></tr><tr><td class = \"rowNumber\" style = \"font-weight: bold; text-align: right;\">11</td><td style = \"text-align: right;\">50050</td></tr><tr><td class = \"rowNumber\" style = \"font-weight: bold; text-align: right;\">12</td><td style = \"text-align: right;\">20022</td></tr><tr><td class = \"rowNumber\" style = \"font-weight: bold; text-align: right;\">13</td><td style = \"text-align: right;\">40048</td></tr><tr><td class = \"rowNumber\" style = \"font-weight: bold; text-align: right;\">14</td><td style = \"text-align: right;\">30039</td></tr><tr><td class = \"rowNumber\" style = \"font-weight: bold; text-align: right;\">15</td><td style = \"text-align: right;\">50070</td></tr><tr><td class = \"rowNumber\" style = \"font-weight: bold; text-align: right;\">16</td><td style = \"text-align: right;\">20030</td></tr><tr><td class = \"rowNumber\" style = \"font-weight: bold; text-align: right;\">17</td><td style = \"text-align: right;\">40064</td></tr><tr><td class = \"rowNumber\" style = \"font-weight: bold; text-align: right;\">18</td><td style = \"text-align: right;\">30051</td></tr><tr><td class = \"rowNumber\" style = \"font-weight: bold; text-align: right;\">19</td><td style = \"text-align: right;\">50090</td></tr><tr><td class = \"rowNumber\" style = \"font-weight: bold; text-align: right;\">20</td><td style = \"text-align: right;\">20038</td></tr><tr><td class = \"rowNumber\" style = \"font-weight: bold; text-align: right;\">21</td><td style = \"text-align: right;\">40080</td></tr></tbody></table></div>"
      ],
      "text/latex": [
       "\\begin{tabular}{r|c}\n",
       "\t& red\\\\\n",
       "\t\\hline\n",
       "\t& Int64\\\\\n",
       "\t\\hline\n",
       "\t1 & 40000 \\\\\n",
       "\t2 & 30003 \\\\\n",
       "\t3 & 50010 \\\\\n",
       "\t4 & 20006 \\\\\n",
       "\t5 & 40016 \\\\\n",
       "\t6 & 30015 \\\\\n",
       "\t7 & 50030 \\\\\n",
       "\t8 & 20014 \\\\\n",
       "\t9 & 40032 \\\\\n",
       "\t10 & 30027 \\\\\n",
       "\t11 & 50050 \\\\\n",
       "\t12 & 20022 \\\\\n",
       "\t13 & 40048 \\\\\n",
       "\t14 & 30039 \\\\\n",
       "\t15 & 50070 \\\\\n",
       "\t16 & 20030 \\\\\n",
       "\t17 & 40064 \\\\\n",
       "\t18 & 30051 \\\\\n",
       "\t19 & 50090 \\\\\n",
       "\t20 & 20038 \\\\\n",
       "\t21 & 40080 \\\\\n",
       "\\end{tabular}\n"
      ],
      "text/plain": [
       "\u001b[1m21×1 DataFrame\u001b[0m\n",
       "\u001b[1m Row \u001b[0m│\u001b[1m red   \u001b[0m\n",
       "     │\u001b[90m Int64 \u001b[0m\n",
       "─────┼───────\n",
       "   1 │ 40000\n",
       "   2 │ 30003\n",
       "   3 │ 50010\n",
       "   4 │ 20006\n",
       "   5 │ 40016\n",
       "   6 │ 30015\n",
       "   7 │ 50030\n",
       "   8 │ 20014\n",
       "   9 │ 40032\n",
       "  10 │ 30027\n",
       "  11 │ 50050\n",
       "  12 │ 20022\n",
       "  13 │ 40048\n",
       "  14 │ 30039\n",
       "  15 │ 50070\n",
       "  16 │ 20030\n",
       "  17 │ 40064\n",
       "  18 │ 30051\n",
       "  19 │ 50090\n",
       "  20 │ 20038\n",
       "  21 │ 40080"
      ]
     },
     "execution_count": 107,
     "metadata": {},
     "output_type": "execute_result"
    }
   ],
   "source": [
    "pmap(x-> (;red=myid()*x), 10_000:10_020) |> DataFrame"
   ]
  }
 ],
 "metadata": {
  "kernelspec": {
   "display_name": "Julia 1.10.1",
   "language": "julia",
   "name": "julia-1.10"
  },
  "language_info": {
   "file_extension": ".jl",
   "mimetype": "application/julia",
   "name": "julia",
   "version": "1.10.1"
  }
 },
 "nbformat": 4,
 "nbformat_minor": 5
}
